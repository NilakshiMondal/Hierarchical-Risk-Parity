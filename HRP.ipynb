{
 "cells": [
  {
   "cell_type": "code",
   "execution_count": 21,
   "id": "8efe1899",
   "metadata": {},
   "outputs": [],
   "source": [
    "# ! pip install pip install PyPortfolioOpt"
   ]
  },
  {
   "cell_type": "code",
   "execution_count": 1,
   "id": "15ba4c0e",
   "metadata": {},
   "outputs": [
    {
     "name": "stderr",
     "output_type": "stream",
     "text": [
      "C:\\Users\\Nilakshi Mondal\\Anaconda3\\lib\\site-packages\\pandas\\compat\\_optional.py:138: UserWarning: Pandas requires version '2.7.0' or newer of 'numexpr' (version '2.6.8' currently installed).\n",
      "  warnings.warn(msg, UserWarning)\n"
     ]
    }
   ],
   "source": [
    "import pandas as pd\n",
    "import numpy as np"
   ]
  },
  {
   "cell_type": "code",
   "execution_count": 20,
   "id": "073b8aca",
   "metadata": {},
   "outputs": [],
   "source": [
    "from pypfopt.hierarchical_portfolio import HRPOpt"
   ]
  },
  {
   "cell_type": "code",
   "execution_count": 49,
   "id": "cbcec984",
   "metadata": {},
   "outputs": [],
   "source": [
    "data = pd.read_csv('data.csv')\n",
    "data.set_index('timeclose',inplace=True)\n"
   ]
  },
  {
   "cell_type": "code",
   "execution_count": 50,
   "id": "7b4b56cf",
   "metadata": {},
   "outputs": [
    {
     "data": {
      "text/plain": [
       "['ETH',\n",
       " 'WBTC',\n",
       " 'XRP',\n",
       " 'MATIC',\n",
       " 'ADA',\n",
       " 'BNB',\n",
       " 'KAVA',\n",
       " 'BTC',\n",
       " 'SHIB',\n",
       " 'USDC',\n",
       " 'HNT',\n",
       " 'ATOM',\n",
       " 'PAXG',\n",
       " 'DOGE',\n",
       " 'SOL']"
      ]
     },
     "execution_count": 50,
     "metadata": {},
     "output_type": "execute_result"
    }
   ],
   "source": [
    "\n",
    "tickers = []\n",
    "\n",
    "for i in range (0,len(data.columns)):\n",
    "    tckr = data.columns[i].rstrip(\"_returns\")\n",
    "    tickers.append(tckr)\n",
    "    \n",
    "tickers"
   ]
  },
  {
   "cell_type": "code",
   "execution_count": 68,
   "id": "317f1627",
   "metadata": {},
   "outputs": [
    {
     "data": {
      "text/plain": [
       "OrderedDict([('ADA_returns', 0.003645503633379175),\n",
       "             ('ATOM_returns', 0.0024722693497935253),\n",
       "             ('BNB_returns', 0.0031866481503367663),\n",
       "             ('BTC_returns', 0.007421799182532255),\n",
       "             ('DOGE_returns', 0.006838938583510324),\n",
       "             ('ETH_returns', 0.0033907545074266204),\n",
       "             ('HNT_returns', 0.022527469773704675),\n",
       "             ('KAVA_returns', 0.004267029734842478),\n",
       "             ('MATIC_returns', 0.007577596950975897),\n",
       "             ('PAXG_returns', 0.47601846912457685),\n",
       "             ('SHIB_returns', 2.949484661080647e-05),\n",
       "             ('SOL_returns', 0.010102688308659602),\n",
       "             ('USDC_returns', 0.4435441917086497),\n",
       "             ('WBTC_returns', 0.00694853651857863),\n",
       "             ('XRP_returns', 0.002028609626422699)])"
      ]
     },
     "execution_count": 68,
     "metadata": {},
     "output_type": "execute_result"
    }
   ],
   "source": [
    " #Weights for Minimum Var Portfolio  using Hierarchia Risk Parity Algorithm\n",
    "HRPOpt(data,np.cov).optimize(linkage_method='single')"
   ]
  },
  {
   "cell_type": "code",
   "execution_count": null,
   "id": "be09e1df",
   "metadata": {},
   "outputs": [],
   "source": []
  }
 ],
 "metadata": {
  "kernelspec": {
   "display_name": "Python 3",
   "language": "python",
   "name": "python3"
  },
  "language_info": {
   "codemirror_mode": {
    "name": "ipython",
    "version": 3
   },
   "file_extension": ".py",
   "mimetype": "text/x-python",
   "name": "python",
   "nbconvert_exporter": "python",
   "pygments_lexer": "ipython3",
   "version": "3.7.1"
  }
 },
 "nbformat": 4,
 "nbformat_minor": 5
}
