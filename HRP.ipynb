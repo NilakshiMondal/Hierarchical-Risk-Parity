{
 "cells": [
  {
   "cell_type": "code",
   "execution_count": 1,
   "id": "8efe1899",
   "metadata": {},
   "outputs": [],
   "source": [
    "# ! pip install pip install PyPortfolioOpt"
   ]
  },
  {
   "cell_type": "code",
   "execution_count": 1,
   "id": "15ba4c0e",
   "metadata": {},
   "outputs": [],
   "source": [
    "import pandas as pd\n",
    "import numpy as np\n",
    "from scipy.stats import gmean\n",
    "from pypfopt.hierarchical_portfolio import HRPOpt\n",
    "from datetime import date\n",
    "from sklearn.metrics import mean_squared_error\n",
    "import matplotlib.pyplot as plt\n",
    "import random"
   ]
  },
  {
   "cell_type": "markdown",
   "source": [
    "## Data Handling"
   ],
   "metadata": {
    "collapsed": false
   }
  },
  {
   "cell_type": "code",
   "execution_count": 2,
   "id": "cbcec984",
   "metadata": {
    "scrolled": true
   },
   "outputs": [],
   "source": [
    "newdata = pd.read_csv('data/price_data.csv').dropna()\n",
    "newdata.set_index('time',inplace=True)\n",
    "newdata.reset_index(inplace=True)\n",
    "\n",
    "#Format Dates by removing timestamps\n",
    "\n",
    "newdata.rename(columns={'time':'Date', 'close':'Price'},inplace=True)\n",
    "newdata['Date'] = pd.to_datetime(newdata['Date']).dt.date\n",
    "newdata['Date'] = newdata['Date'].astype('datetime64[ns]')\n",
    "# data.set_index(\"Date\")\n"
   ]
  },
  {
   "cell_type": "code",
   "execution_count": 3,
   "outputs": [],
   "source": [
    "# symbols = data[\"symbol\"].unique()\n",
    "#\n",
    "# list_of_df = list()\n",
    "\n",
    "#Append Prices\n",
    "# for symbol in symbols:\n",
    "#     temp_df = pd.DataFrame()\n",
    "#     temp_df = data[data['symbol'] == symbol]\n",
    "#     temp_df = temp_df.drop(['symbol','Date'], axis=1)\n",
    "#     temp_df = temp_df.rename(columns={'Price': symbol })\n",
    "#     temp_df = temp_df.values.tolist()\n",
    "#     list_of_df.append(temp_df)\n",
    "\n",
    "#Append Date in list\n",
    "# list_of_df.append(data['Date'].tolist())\n",
    "#\n",
    "# final_data = pd.DataFrame()\n",
    "#\n",
    "# for df in list_of_df:\n",
    "#     final_data = pd.concat([final_data, df],axis=1)\n",
    "\n",
    "\n"
   ],
   "metadata": {
    "collapsed": false
   }
  },
  {
   "cell_type": "code",
   "execution_count": 4,
   "outputs": [],
   "source": [
    "pivot_df = newdata.pivot(index= \"Date\", columns='symbol', values='Price')\n",
    "pivot_df.columns.name = None\n",
    "pivot_df.reset_index(inplace=True)"
   ],
   "metadata": {
    "collapsed": false
   }
  },
  {
   "cell_type": "code",
   "execution_count": 5,
   "id": "8fd1ab39",
   "metadata": {},
   "outputs": [],
   "source": [
    "#Averaging over timestamps in a day\n",
    "\n",
    "# data = data.groupby('Date').mean()\n",
    "# data.reset_index(inplace=True)\n"
   ]
  },
  {
   "cell_type": "code",
   "execution_count": 6,
   "outputs": [],
   "source": [
    "data=pivot_df\n",
    "data.set_index(\"Date\",inplace=True)\n"
   ],
   "metadata": {
    "collapsed": false
   }
  },
  {
   "cell_type": "code",
   "execution_count": 10,
   "outputs": [],
   "source": [
    "# Calculate log returns\n",
    "\n",
    "log_returns = np.log(data).diff()\n",
    "log_returns.reset_index(inplace=True)"
   ],
   "metadata": {
    "collapsed": false
   }
  },
  {
   "cell_type": "code",
   "execution_count": 69,
   "outputs": [
    {
     "ename": "KeyError",
     "evalue": "1",
     "output_type": "error",
     "traceback": [
      "\u001B[1;31m---------------------------------------------------------------------------\u001B[0m",
      "\u001B[1;31mKeyError\u001B[0m                                  Traceback (most recent call last)",
      "File \u001B[1;32m~\\Desktop\\Hierarchical-Risk-Parity\\venv\\Lib\\site-packages\\pandas\\core\\indexes\\base.py:3802\u001B[0m, in \u001B[0;36mIndex.get_loc\u001B[1;34m(self, key, method, tolerance)\u001B[0m\n\u001B[0;32m   3801\u001B[0m \u001B[38;5;28;01mtry\u001B[39;00m:\n\u001B[1;32m-> 3802\u001B[0m     \u001B[38;5;28;01mreturn\u001B[39;00m \u001B[38;5;28;43mself\u001B[39;49m\u001B[38;5;241;43m.\u001B[39;49m\u001B[43m_engine\u001B[49m\u001B[38;5;241;43m.\u001B[39;49m\u001B[43mget_loc\u001B[49m\u001B[43m(\u001B[49m\u001B[43mcasted_key\u001B[49m\u001B[43m)\u001B[49m\n\u001B[0;32m   3803\u001B[0m \u001B[38;5;28;01mexcept\u001B[39;00m \u001B[38;5;167;01mKeyError\u001B[39;00m \u001B[38;5;28;01mas\u001B[39;00m err:\n",
      "File \u001B[1;32m~\\Desktop\\Hierarchical-Risk-Parity\\venv\\Lib\\site-packages\\pandas\\_libs\\index.pyx:138\u001B[0m, in \u001B[0;36mpandas._libs.index.IndexEngine.get_loc\u001B[1;34m()\u001B[0m\n",
      "File \u001B[1;32m~\\Desktop\\Hierarchical-Risk-Parity\\venv\\Lib\\site-packages\\pandas\\_libs\\index.pyx:165\u001B[0m, in \u001B[0;36mpandas._libs.index.IndexEngine.get_loc\u001B[1;34m()\u001B[0m\n",
      "File \u001B[1;32mpandas\\_libs\\hashtable_class_helper.pxi:5745\u001B[0m, in \u001B[0;36mpandas._libs.hashtable.PyObjectHashTable.get_item\u001B[1;34m()\u001B[0m\n",
      "File \u001B[1;32mpandas\\_libs\\hashtable_class_helper.pxi:5753\u001B[0m, in \u001B[0;36mpandas._libs.hashtable.PyObjectHashTable.get_item\u001B[1;34m()\u001B[0m\n",
      "\u001B[1;31mKeyError\u001B[0m: 1",
      "\nThe above exception was the direct cause of the following exception:\n",
      "\u001B[1;31mKeyError\u001B[0m                                  Traceback (most recent call last)",
      "Cell \u001B[1;32mIn[69], line 9\u001B[0m\n\u001B[0;32m      7\u001B[0m         value \u001B[38;5;241m=\u001B[39m \u001B[38;5;241m0\u001B[39m\n\u001B[0;32m      8\u001B[0m     \u001B[38;5;28;01melse\u001B[39;00m :\n\u001B[1;32m----> 9\u001B[0m         value \u001B[38;5;241m=\u001B[39m np\u001B[38;5;241m.\u001B[39mlog(\u001B[43mdata\u001B[49m\u001B[43m[\u001B[49m\u001B[43mi\u001B[49m\u001B[43m]\u001B[49m\u001B[38;5;241m/\u001B[39mdata[i\u001B[38;5;241m-\u001B[39m\u001B[38;5;241m1\u001B[39m])\n\u001B[0;32m     10\u001B[0m     returns\u001B[38;5;241m.\u001B[39mappend(value)\n\u001B[0;32m     12\u001B[0m data[\u001B[38;5;124m'\u001B[39m\u001B[38;5;124mReturns\u001B[39m\u001B[38;5;124m'\u001B[39m] \u001B[38;5;241m=\u001B[39m returns\n",
      "File \u001B[1;32m~\\Desktop\\Hierarchical-Risk-Parity\\venv\\Lib\\site-packages\\pandas\\core\\frame.py:3807\u001B[0m, in \u001B[0;36mDataFrame.__getitem__\u001B[1;34m(self, key)\u001B[0m\n\u001B[0;32m   3805\u001B[0m \u001B[38;5;28;01mif\u001B[39;00m \u001B[38;5;28mself\u001B[39m\u001B[38;5;241m.\u001B[39mcolumns\u001B[38;5;241m.\u001B[39mnlevels \u001B[38;5;241m>\u001B[39m \u001B[38;5;241m1\u001B[39m:\n\u001B[0;32m   3806\u001B[0m     \u001B[38;5;28;01mreturn\u001B[39;00m \u001B[38;5;28mself\u001B[39m\u001B[38;5;241m.\u001B[39m_getitem_multilevel(key)\n\u001B[1;32m-> 3807\u001B[0m indexer \u001B[38;5;241m=\u001B[39m \u001B[38;5;28;43mself\u001B[39;49m\u001B[38;5;241;43m.\u001B[39;49m\u001B[43mcolumns\u001B[49m\u001B[38;5;241;43m.\u001B[39;49m\u001B[43mget_loc\u001B[49m\u001B[43m(\u001B[49m\u001B[43mkey\u001B[49m\u001B[43m)\u001B[49m\n\u001B[0;32m   3808\u001B[0m \u001B[38;5;28;01mif\u001B[39;00m is_integer(indexer):\n\u001B[0;32m   3809\u001B[0m     indexer \u001B[38;5;241m=\u001B[39m [indexer]\n",
      "File \u001B[1;32m~\\Desktop\\Hierarchical-Risk-Parity\\venv\\Lib\\site-packages\\pandas\\core\\indexes\\base.py:3804\u001B[0m, in \u001B[0;36mIndex.get_loc\u001B[1;34m(self, key, method, tolerance)\u001B[0m\n\u001B[0;32m   3802\u001B[0m     \u001B[38;5;28;01mreturn\u001B[39;00m \u001B[38;5;28mself\u001B[39m\u001B[38;5;241m.\u001B[39m_engine\u001B[38;5;241m.\u001B[39mget_loc(casted_key)\n\u001B[0;32m   3803\u001B[0m \u001B[38;5;28;01mexcept\u001B[39;00m \u001B[38;5;167;01mKeyError\u001B[39;00m \u001B[38;5;28;01mas\u001B[39;00m err:\n\u001B[1;32m-> 3804\u001B[0m     \u001B[38;5;28;01mraise\u001B[39;00m \u001B[38;5;167;01mKeyError\u001B[39;00m(key) \u001B[38;5;28;01mfrom\u001B[39;00m \u001B[38;5;21;01merr\u001B[39;00m\n\u001B[0;32m   3805\u001B[0m \u001B[38;5;28;01mexcept\u001B[39;00m \u001B[38;5;167;01mTypeError\u001B[39;00m:\n\u001B[0;32m   3806\u001B[0m     \u001B[38;5;66;03m# If we have a listlike key, _check_indexing_error will raise\u001B[39;00m\n\u001B[0;32m   3807\u001B[0m     \u001B[38;5;66;03m#  InvalidIndexError. Otherwise we fall through and re-raise\u001B[39;00m\n\u001B[0;32m   3808\u001B[0m     \u001B[38;5;66;03m#  the TypeError.\u001B[39;00m\n\u001B[0;32m   3809\u001B[0m     \u001B[38;5;28mself\u001B[39m\u001B[38;5;241m.\u001B[39m_check_indexing_error(key)\n",
      "\u001B[1;31mKeyError\u001B[0m: 1"
     ]
    }
   ],
   "source": [
    "\n",
    "# returns = []\n",
    "#\n",
    "# for i in range (0,len(data)):\n",
    "#     if i == 0:\n",
    "#         value = 0\n",
    "#     else :\n",
    "#         value = np.log(data[i]/data[i-1])\n",
    "#     returns.append(value)\n",
    "#\n",
    "# data['Returns'] = returns\n"
   ],
   "metadata": {
    "collapsed": false
   }
  },
  {
   "cell_type": "code",
   "execution_count": 12,
   "outputs": [],
   "source": [
    "# Add columns for years and months\n",
    "\n",
    "log_returns['Year'] = log_returns['Date'].dt.year\n",
    "log_returns['Month'] = log_returns['Date'].dt.month\n",
    "\n",
    "yr= sorted(log_returns.Year.unique())\n",
    "mo= sorted(log_returns.Month.unique())\n",
    "\n"
   ],
   "metadata": {
    "collapsed": false
   }
  },
  {
   "cell_type": "code",
   "execution_count": 13,
   "outputs": [
    {
     "data": {
      "text/plain": "           Date       BTC       ETH  Year  Month\n0    2019-01-02       NaN       NaN  2019      1\n1    2019-01-03 -0.027422 -0.038881  2019      1\n2    2019-01-04  0.005452  0.035872  2019      1\n3    2019-01-05 -0.003252  0.006812  2019      1\n4    2019-01-06  0.058447  0.013451  2019      1\n...         ...       ...       ...   ...    ...\n1091 2021-12-28 -0.062151 -0.060401  2021     12\n1092 2021-12-29 -0.024336 -0.046408  2021     12\n1093 2021-12-30  0.015668  0.023242  2021     12\n1094 2021-12-31 -0.018649 -0.008442  2021     12\n1095 2022-01-01  0.029374  0.023367  2022      1\n\n[1096 rows x 5 columns]",
      "text/html": "<div>\n<style scoped>\n    .dataframe tbody tr th:only-of-type {\n        vertical-align: middle;\n    }\n\n    .dataframe tbody tr th {\n        vertical-align: top;\n    }\n\n    .dataframe thead th {\n        text-align: right;\n    }\n</style>\n<table border=\"1\" class=\"dataframe\">\n  <thead>\n    <tr style=\"text-align: right;\">\n      <th></th>\n      <th>Date</th>\n      <th>BTC</th>\n      <th>ETH</th>\n      <th>Year</th>\n      <th>Month</th>\n    </tr>\n  </thead>\n  <tbody>\n    <tr>\n      <th>0</th>\n      <td>2019-01-02</td>\n      <td>NaN</td>\n      <td>NaN</td>\n      <td>2019</td>\n      <td>1</td>\n    </tr>\n    <tr>\n      <th>1</th>\n      <td>2019-01-03</td>\n      <td>-0.027422</td>\n      <td>-0.038881</td>\n      <td>2019</td>\n      <td>1</td>\n    </tr>\n    <tr>\n      <th>2</th>\n      <td>2019-01-04</td>\n      <td>0.005452</td>\n      <td>0.035872</td>\n      <td>2019</td>\n      <td>1</td>\n    </tr>\n    <tr>\n      <th>3</th>\n      <td>2019-01-05</td>\n      <td>-0.003252</td>\n      <td>0.006812</td>\n      <td>2019</td>\n      <td>1</td>\n    </tr>\n    <tr>\n      <th>4</th>\n      <td>2019-01-06</td>\n      <td>0.058447</td>\n      <td>0.013451</td>\n      <td>2019</td>\n      <td>1</td>\n    </tr>\n    <tr>\n      <th>...</th>\n      <td>...</td>\n      <td>...</td>\n      <td>...</td>\n      <td>...</td>\n      <td>...</td>\n    </tr>\n    <tr>\n      <th>1091</th>\n      <td>2021-12-28</td>\n      <td>-0.062151</td>\n      <td>-0.060401</td>\n      <td>2021</td>\n      <td>12</td>\n    </tr>\n    <tr>\n      <th>1092</th>\n      <td>2021-12-29</td>\n      <td>-0.024336</td>\n      <td>-0.046408</td>\n      <td>2021</td>\n      <td>12</td>\n    </tr>\n    <tr>\n      <th>1093</th>\n      <td>2021-12-30</td>\n      <td>0.015668</td>\n      <td>0.023242</td>\n      <td>2021</td>\n      <td>12</td>\n    </tr>\n    <tr>\n      <th>1094</th>\n      <td>2021-12-31</td>\n      <td>-0.018649</td>\n      <td>-0.008442</td>\n      <td>2021</td>\n      <td>12</td>\n    </tr>\n    <tr>\n      <th>1095</th>\n      <td>2022-01-01</td>\n      <td>0.029374</td>\n      <td>0.023367</td>\n      <td>2022</td>\n      <td>1</td>\n    </tr>\n  </tbody>\n</table>\n<p>1096 rows × 5 columns</p>\n</div>"
     },
     "execution_count": 13,
     "metadata": {},
     "output_type": "execute_result"
    }
   ],
   "source": [
    "#Drop one data point causing trouble\n",
    "\n",
    "# data.set_index(['Month','Year'],inplace=True)\n",
    "# data.drop((1,2022),inplace=True)\n",
    "# data.reset_index(inplace=True)"
   ],
   "metadata": {
    "collapsed": false
   }
  },
  {
   "cell_type": "code",
   "execution_count": 14,
   "id": "3710b075",
   "metadata": {},
   "outputs": [],
   "source": [
    "#Create list of data frames for every month's data\n",
    "\n",
    "df = []\n",
    "for i in yr:\n",
    "    for j in mo:\n",
    "        d = log_returns[(log_returns['Month'] == j) & (log_returns['Year']==i)]\n",
    "        if d.empty:\n",
    "            continue\n",
    "        else:\n",
    "            df.append(d)"
   ]
  },
  {
   "cell_type": "markdown",
   "id": "3601556e",
   "metadata": {},
   "source": [
    "## Hierarchial Risk Parity (for entire data)"
   ]
  },
  {
   "cell_type": "code",
   "execution_count": 17,
   "id": "42b0766b",
   "metadata": {},
   "outputs": [],
   "source": [
    "#HRP Model\n",
    "\n",
    "new_data = log_returns.drop(columns=['Month','Year'])\n",
    "new_data.set_index('Date', inplace=True)\n",
    "HRP = HRPOpt(new_data,new_data.cov)"
   ]
  },
  {
   "cell_type": "code",
   "execution_count": 18,
   "id": "317f1627",
   "metadata": {},
   "outputs": [],
   "source": [
    "#Weights for Minimum Var Portfolio  using Hierarchial Risk Parity Algorithm\n",
    "w_vector = HRP.optimize(linkage_method='single')\n",
    "weights= w_vector.values()\n"
   ]
  },
  {
   "cell_type": "code",
   "execution_count": 19,
   "id": "be09e1df",
   "metadata": {},
   "outputs": [
    {
     "name": "stdout",
     "output_type": "stream",
     "text": [
      "Expected annual return: 63.4%\n",
      "Annual volatility: 65.8%\n",
      "Sharpe Ratio: 0.93\n",
      "Expected annual return: 63.4%\n",
      "Annual volatility: 65.8%\n",
      "Sharpe Ratio: 0.93\n"
     ]
    }
   ],
   "source": [
    "#Model Performance for total number of days in dataset \n",
    "\n",
    "hrp_vol = HRP.portfolio_performance(weights)[1]*100\n",
    "hrp_rtrn = HRP.portfolio_performance(weights)[0]*100\n"
   ]
  },
  {
   "cell_type": "markdown",
   "id": "fad580be",
   "metadata": {},
   "source": [
    "## Monthly HRP"
   ]
  },
  {
   "cell_type": "code",
   "execution_count": 34,
   "id": "1333721b",
   "metadata": {},
   "outputs": [
    {
     "name": "stderr",
     "output_type": "stream",
     "text": [
      "C:\\Users\\Nilakshi Mondal\\AppData\\Local\\Temp\\ipykernel_36816\\2515972399.py:8: SettingWithCopyWarning: \n",
      "A value is trying to be set on a copy of a slice from a DataFrame\n",
      "\n",
      "See the caveats in the documentation: https://pandas.pydata.org/pandas-docs/stable/user_guide/indexing.html#returning-a-view-versus-a-copy\n",
      "  dataset.replace([np.inf, -np.inf], np.nan, inplace=True)\n",
      "C:\\Users\\Nilakshi Mondal\\AppData\\Local\\Temp\\ipykernel_36816\\2515972399.py:8: SettingWithCopyWarning: \n",
      "A value is trying to be set on a copy of a slice from a DataFrame\n",
      "\n",
      "See the caveats in the documentation: https://pandas.pydata.org/pandas-docs/stable/user_guide/indexing.html#returning-a-view-versus-a-copy\n",
      "  dataset.replace([np.inf, -np.inf], np.nan, inplace=True)\n",
      "C:\\Users\\Nilakshi Mondal\\AppData\\Local\\Temp\\ipykernel_36816\\2515972399.py:8: SettingWithCopyWarning: \n",
      "A value is trying to be set on a copy of a slice from a DataFrame\n",
      "\n",
      "See the caveats in the documentation: https://pandas.pydata.org/pandas-docs/stable/user_guide/indexing.html#returning-a-view-versus-a-copy\n",
      "  dataset.replace([np.inf, -np.inf], np.nan, inplace=True)\n",
      "C:\\Users\\Nilakshi Mondal\\AppData\\Local\\Temp\\ipykernel_36816\\2515972399.py:8: SettingWithCopyWarning: \n",
      "A value is trying to be set on a copy of a slice from a DataFrame\n",
      "\n",
      "See the caveats in the documentation: https://pandas.pydata.org/pandas-docs/stable/user_guide/indexing.html#returning-a-view-versus-a-copy\n",
      "  dataset.replace([np.inf, -np.inf], np.nan, inplace=True)\n",
      "C:\\Users\\Nilakshi Mondal\\AppData\\Local\\Temp\\ipykernel_36816\\2515972399.py:8: SettingWithCopyWarning: \n",
      "A value is trying to be set on a copy of a slice from a DataFrame\n",
      "\n",
      "See the caveats in the documentation: https://pandas.pydata.org/pandas-docs/stable/user_guide/indexing.html#returning-a-view-versus-a-copy\n",
      "  dataset.replace([np.inf, -np.inf], np.nan, inplace=True)\n",
      "C:\\Users\\Nilakshi Mondal\\AppData\\Local\\Temp\\ipykernel_36816\\2515972399.py:8: SettingWithCopyWarning: \n",
      "A value is trying to be set on a copy of a slice from a DataFrame\n",
      "\n",
      "See the caveats in the documentation: https://pandas.pydata.org/pandas-docs/stable/user_guide/indexing.html#returning-a-view-versus-a-copy\n",
      "  dataset.replace([np.inf, -np.inf], np.nan, inplace=True)\n",
      "C:\\Users\\Nilakshi Mondal\\AppData\\Local\\Temp\\ipykernel_36816\\2515972399.py:8: SettingWithCopyWarning: \n",
      "A value is trying to be set on a copy of a slice from a DataFrame\n",
      "\n",
      "See the caveats in the documentation: https://pandas.pydata.org/pandas-docs/stable/user_guide/indexing.html#returning-a-view-versus-a-copy\n",
      "  dataset.replace([np.inf, -np.inf], np.nan, inplace=True)\n",
      "C:\\Users\\Nilakshi Mondal\\AppData\\Local\\Temp\\ipykernel_36816\\2515972399.py:8: SettingWithCopyWarning: \n",
      "A value is trying to be set on a copy of a slice from a DataFrame\n",
      "\n",
      "See the caveats in the documentation: https://pandas.pydata.org/pandas-docs/stable/user_guide/indexing.html#returning-a-view-versus-a-copy\n",
      "  dataset.replace([np.inf, -np.inf], np.nan, inplace=True)\n",
      "C:\\Users\\Nilakshi Mondal\\AppData\\Local\\Temp\\ipykernel_36816\\2515972399.py:8: SettingWithCopyWarning: \n",
      "A value is trying to be set on a copy of a slice from a DataFrame\n",
      "\n",
      "See the caveats in the documentation: https://pandas.pydata.org/pandas-docs/stable/user_guide/indexing.html#returning-a-view-versus-a-copy\n",
      "  dataset.replace([np.inf, -np.inf], np.nan, inplace=True)\n",
      "C:\\Users\\Nilakshi Mondal\\AppData\\Local\\Temp\\ipykernel_36816\\2515972399.py:8: SettingWithCopyWarning: \n",
      "A value is trying to be set on a copy of a slice from a DataFrame\n",
      "\n",
      "See the caveats in the documentation: https://pandas.pydata.org/pandas-docs/stable/user_guide/indexing.html#returning-a-view-versus-a-copy\n",
      "  dataset.replace([np.inf, -np.inf], np.nan, inplace=True)\n",
      "C:\\Users\\Nilakshi Mondal\\AppData\\Local\\Temp\\ipykernel_36816\\2515972399.py:8: SettingWithCopyWarning: \n",
      "A value is trying to be set on a copy of a slice from a DataFrame\n",
      "\n",
      "See the caveats in the documentation: https://pandas.pydata.org/pandas-docs/stable/user_guide/indexing.html#returning-a-view-versus-a-copy\n",
      "  dataset.replace([np.inf, -np.inf], np.nan, inplace=True)\n",
      "C:\\Users\\Nilakshi Mondal\\AppData\\Local\\Temp\\ipykernel_36816\\2515972399.py:8: SettingWithCopyWarning: \n",
      "A value is trying to be set on a copy of a slice from a DataFrame\n",
      "\n",
      "See the caveats in the documentation: https://pandas.pydata.org/pandas-docs/stable/user_guide/indexing.html#returning-a-view-versus-a-copy\n",
      "  dataset.replace([np.inf, -np.inf], np.nan, inplace=True)\n",
      "C:\\Users\\Nilakshi Mondal\\AppData\\Local\\Temp\\ipykernel_36816\\2515972399.py:8: SettingWithCopyWarning: \n",
      "A value is trying to be set on a copy of a slice from a DataFrame\n",
      "\n",
      "See the caveats in the documentation: https://pandas.pydata.org/pandas-docs/stable/user_guide/indexing.html#returning-a-view-versus-a-copy\n",
      "  dataset.replace([np.inf, -np.inf], np.nan, inplace=True)\n",
      "C:\\Users\\Nilakshi Mondal\\AppData\\Local\\Temp\\ipykernel_36816\\2515972399.py:8: SettingWithCopyWarning: \n",
      "A value is trying to be set on a copy of a slice from a DataFrame\n",
      "\n",
      "See the caveats in the documentation: https://pandas.pydata.org/pandas-docs/stable/user_guide/indexing.html#returning-a-view-versus-a-copy\n",
      "  dataset.replace([np.inf, -np.inf], np.nan, inplace=True)\n",
      "C:\\Users\\Nilakshi Mondal\\AppData\\Local\\Temp\\ipykernel_36816\\2515972399.py:8: SettingWithCopyWarning: \n",
      "A value is trying to be set on a copy of a slice from a DataFrame\n",
      "\n",
      "See the caveats in the documentation: https://pandas.pydata.org/pandas-docs/stable/user_guide/indexing.html#returning-a-view-versus-a-copy\n",
      "  dataset.replace([np.inf, -np.inf], np.nan, inplace=True)\n",
      "C:\\Users\\Nilakshi Mondal\\AppData\\Local\\Temp\\ipykernel_36816\\2515972399.py:8: SettingWithCopyWarning: \n",
      "A value is trying to be set on a copy of a slice from a DataFrame\n",
      "\n",
      "See the caveats in the documentation: https://pandas.pydata.org/pandas-docs/stable/user_guide/indexing.html#returning-a-view-versus-a-copy\n",
      "  dataset.replace([np.inf, -np.inf], np.nan, inplace=True)\n",
      "C:\\Users\\Nilakshi Mondal\\AppData\\Local\\Temp\\ipykernel_36816\\2515972399.py:8: SettingWithCopyWarning: \n",
      "A value is trying to be set on a copy of a slice from a DataFrame\n",
      "\n",
      "See the caveats in the documentation: https://pandas.pydata.org/pandas-docs/stable/user_guide/indexing.html#returning-a-view-versus-a-copy\n",
      "  dataset.replace([np.inf, -np.inf], np.nan, inplace=True)\n",
      "C:\\Users\\Nilakshi Mondal\\AppData\\Local\\Temp\\ipykernel_36816\\2515972399.py:8: SettingWithCopyWarning: \n",
      "A value is trying to be set on a copy of a slice from a DataFrame\n",
      "\n",
      "See the caveats in the documentation: https://pandas.pydata.org/pandas-docs/stable/user_guide/indexing.html#returning-a-view-versus-a-copy\n",
      "  dataset.replace([np.inf, -np.inf], np.nan, inplace=True)\n",
      "C:\\Users\\Nilakshi Mondal\\AppData\\Local\\Temp\\ipykernel_36816\\2515972399.py:8: SettingWithCopyWarning: \n",
      "A value is trying to be set on a copy of a slice from a DataFrame\n",
      "\n",
      "See the caveats in the documentation: https://pandas.pydata.org/pandas-docs/stable/user_guide/indexing.html#returning-a-view-versus-a-copy\n",
      "  dataset.replace([np.inf, -np.inf], np.nan, inplace=True)\n",
      "C:\\Users\\Nilakshi Mondal\\AppData\\Local\\Temp\\ipykernel_36816\\2515972399.py:8: SettingWithCopyWarning: \n",
      "A value is trying to be set on a copy of a slice from a DataFrame\n",
      "\n",
      "See the caveats in the documentation: https://pandas.pydata.org/pandas-docs/stable/user_guide/indexing.html#returning-a-view-versus-a-copy\n",
      "  dataset.replace([np.inf, -np.inf], np.nan, inplace=True)\n",
      "C:\\Users\\Nilakshi Mondal\\AppData\\Local\\Temp\\ipykernel_36816\\2515972399.py:8: SettingWithCopyWarning: \n",
      "A value is trying to be set on a copy of a slice from a DataFrame\n",
      "\n",
      "See the caveats in the documentation: https://pandas.pydata.org/pandas-docs/stable/user_guide/indexing.html#returning-a-view-versus-a-copy\n",
      "  dataset.replace([np.inf, -np.inf], np.nan, inplace=True)\n",
      "C:\\Users\\Nilakshi Mondal\\AppData\\Local\\Temp\\ipykernel_36816\\2515972399.py:8: SettingWithCopyWarning: \n",
      "A value is trying to be set on a copy of a slice from a DataFrame\n",
      "\n",
      "See the caveats in the documentation: https://pandas.pydata.org/pandas-docs/stable/user_guide/indexing.html#returning-a-view-versus-a-copy\n",
      "  dataset.replace([np.inf, -np.inf], np.nan, inplace=True)\n",
      "C:\\Users\\Nilakshi Mondal\\AppData\\Local\\Temp\\ipykernel_36816\\2515972399.py:8: SettingWithCopyWarning: \n",
      "A value is trying to be set on a copy of a slice from a DataFrame\n",
      "\n",
      "See the caveats in the documentation: https://pandas.pydata.org/pandas-docs/stable/user_guide/indexing.html#returning-a-view-versus-a-copy\n",
      "  dataset.replace([np.inf, -np.inf], np.nan, inplace=True)\n",
      "C:\\Users\\Nilakshi Mondal\\AppData\\Local\\Temp\\ipykernel_36816\\2515972399.py:8: SettingWithCopyWarning: \n",
      "A value is trying to be set on a copy of a slice from a DataFrame\n",
      "\n",
      "See the caveats in the documentation: https://pandas.pydata.org/pandas-docs/stable/user_guide/indexing.html#returning-a-view-versus-a-copy\n",
      "  dataset.replace([np.inf, -np.inf], np.nan, inplace=True)\n",
      "C:\\Users\\Nilakshi Mondal\\AppData\\Local\\Temp\\ipykernel_36816\\2515972399.py:8: SettingWithCopyWarning: \n",
      "A value is trying to be set on a copy of a slice from a DataFrame\n",
      "\n",
      "See the caveats in the documentation: https://pandas.pydata.org/pandas-docs/stable/user_guide/indexing.html#returning-a-view-versus-a-copy\n",
      "  dataset.replace([np.inf, -np.inf], np.nan, inplace=True)\n",
      "C:\\Users\\Nilakshi Mondal\\AppData\\Local\\Temp\\ipykernel_36816\\2515972399.py:8: SettingWithCopyWarning: \n",
      "A value is trying to be set on a copy of a slice from a DataFrame\n",
      "\n",
      "See the caveats in the documentation: https://pandas.pydata.org/pandas-docs/stable/user_guide/indexing.html#returning-a-view-versus-a-copy\n",
      "  dataset.replace([np.inf, -np.inf], np.nan, inplace=True)\n",
      "C:\\Users\\Nilakshi Mondal\\AppData\\Local\\Temp\\ipykernel_36816\\2515972399.py:8: SettingWithCopyWarning: \n",
      "A value is trying to be set on a copy of a slice from a DataFrame\n",
      "\n",
      "See the caveats in the documentation: https://pandas.pydata.org/pandas-docs/stable/user_guide/indexing.html#returning-a-view-versus-a-copy\n",
      "  dataset.replace([np.inf, -np.inf], np.nan, inplace=True)\n",
      "C:\\Users\\Nilakshi Mondal\\AppData\\Local\\Temp\\ipykernel_36816\\2515972399.py:8: SettingWithCopyWarning: \n",
      "A value is trying to be set on a copy of a slice from a DataFrame\n",
      "\n",
      "See the caveats in the documentation: https://pandas.pydata.org/pandas-docs/stable/user_guide/indexing.html#returning-a-view-versus-a-copy\n",
      "  dataset.replace([np.inf, -np.inf], np.nan, inplace=True)\n",
      "C:\\Users\\Nilakshi Mondal\\AppData\\Local\\Temp\\ipykernel_36816\\2515972399.py:8: SettingWithCopyWarning: \n",
      "A value is trying to be set on a copy of a slice from a DataFrame\n",
      "\n",
      "See the caveats in the documentation: https://pandas.pydata.org/pandas-docs/stable/user_guide/indexing.html#returning-a-view-versus-a-copy\n",
      "  dataset.replace([np.inf, -np.inf], np.nan, inplace=True)\n",
      "C:\\Users\\Nilakshi Mondal\\AppData\\Local\\Temp\\ipykernel_36816\\2515972399.py:8: SettingWithCopyWarning: \n",
      "A value is trying to be set on a copy of a slice from a DataFrame\n",
      "\n",
      "See the caveats in the documentation: https://pandas.pydata.org/pandas-docs/stable/user_guide/indexing.html#returning-a-view-versus-a-copy\n",
      "  dataset.replace([np.inf, -np.inf], np.nan, inplace=True)\n",
      "C:\\Users\\Nilakshi Mondal\\AppData\\Local\\Temp\\ipykernel_36816\\2515972399.py:8: SettingWithCopyWarning: \n",
      "A value is trying to be set on a copy of a slice from a DataFrame\n",
      "\n",
      "See the caveats in the documentation: https://pandas.pydata.org/pandas-docs/stable/user_guide/indexing.html#returning-a-view-versus-a-copy\n",
      "  dataset.replace([np.inf, -np.inf], np.nan, inplace=True)\n",
      "C:\\Users\\Nilakshi Mondal\\AppData\\Local\\Temp\\ipykernel_36816\\2515972399.py:8: SettingWithCopyWarning: \n",
      "A value is trying to be set on a copy of a slice from a DataFrame\n",
      "\n",
      "See the caveats in the documentation: https://pandas.pydata.org/pandas-docs/stable/user_guide/indexing.html#returning-a-view-versus-a-copy\n",
      "  dataset.replace([np.inf, -np.inf], np.nan, inplace=True)\n",
      "C:\\Users\\Nilakshi Mondal\\AppData\\Local\\Temp\\ipykernel_36816\\2515972399.py:8: SettingWithCopyWarning: \n",
      "A value is trying to be set on a copy of a slice from a DataFrame\n",
      "\n",
      "See the caveats in the documentation: https://pandas.pydata.org/pandas-docs/stable/user_guide/indexing.html#returning-a-view-versus-a-copy\n",
      "  dataset.replace([np.inf, -np.inf], np.nan, inplace=True)\n",
      "C:\\Users\\Nilakshi Mondal\\AppData\\Local\\Temp\\ipykernel_36816\\2515972399.py:8: SettingWithCopyWarning: \n",
      "A value is trying to be set on a copy of a slice from a DataFrame\n",
      "\n",
      "See the caveats in the documentation: https://pandas.pydata.org/pandas-docs/stable/user_guide/indexing.html#returning-a-view-versus-a-copy\n",
      "  dataset.replace([np.inf, -np.inf], np.nan, inplace=True)\n",
      "C:\\Users\\Nilakshi Mondal\\AppData\\Local\\Temp\\ipykernel_36816\\2515972399.py:8: SettingWithCopyWarning: \n",
      "A value is trying to be set on a copy of a slice from a DataFrame\n",
      "\n",
      "See the caveats in the documentation: https://pandas.pydata.org/pandas-docs/stable/user_guide/indexing.html#returning-a-view-versus-a-copy\n",
      "  dataset.replace([np.inf, -np.inf], np.nan, inplace=True)\n",
      "C:\\Users\\Nilakshi Mondal\\AppData\\Local\\Temp\\ipykernel_36816\\2515972399.py:8: SettingWithCopyWarning: \n",
      "A value is trying to be set on a copy of a slice from a DataFrame\n",
      "\n",
      "See the caveats in the documentation: https://pandas.pydata.org/pandas-docs/stable/user_guide/indexing.html#returning-a-view-versus-a-copy\n",
      "  dataset.replace([np.inf, -np.inf], np.nan, inplace=True)\n",
      "C:\\Users\\Nilakshi Mondal\\AppData\\Local\\Temp\\ipykernel_36816\\2515972399.py:8: SettingWithCopyWarning: \n",
      "A value is trying to be set on a copy of a slice from a DataFrame\n",
      "\n",
      "See the caveats in the documentation: https://pandas.pydata.org/pandas-docs/stable/user_guide/indexing.html#returning-a-view-versus-a-copy\n",
      "  dataset.replace([np.inf, -np.inf], np.nan, inplace=True)\n",
      "C:\\Users\\Nilakshi Mondal\\Desktop\\Hierarchical-Risk-Parity\\venv\\Lib\\site-packages\\pandas\\core\\frame.py:10474: RuntimeWarning: Degrees of freedom <= 0 for slice\n",
      "  base_cov = np.cov(mat.T, ddof=ddof)\n",
      "C:\\Users\\Nilakshi Mondal\\Desktop\\Hierarchical-Risk-Parity\\venv\\Lib\\site-packages\\numpy\\lib\\function_base.py:2705: RuntimeWarning: divide by zero encountered in divide\n",
      "  c *= np.true_divide(1, fact)\n",
      "C:\\Users\\Nilakshi Mondal\\Desktop\\Hierarchical-Risk-Parity\\venv\\Lib\\site-packages\\numpy\\lib\\function_base.py:2705: RuntimeWarning: invalid value encountered in multiply\n",
      "  c *= np.true_divide(1, fact)\n"
     ]
    },
    {
     "ename": "ValueError",
     "evalue": "The condensed distance matrix must contain only finite values.",
     "output_type": "error",
     "traceback": [
      "\u001B[1;31m---------------------------------------------------------------------------\u001B[0m",
      "\u001B[1;31mValueError\u001B[0m                                Traceback (most recent call last)",
      "Cell \u001B[1;32mIn[34], line 13\u001B[0m\n\u001B[0;32m     10\u001B[0m dataset\u001B[38;5;241m.\u001B[39mset_index(\u001B[38;5;124m'\u001B[39m\u001B[38;5;124mDate\u001B[39m\u001B[38;5;124m'\u001B[39m, inplace\u001B[38;5;241m=\u001B[39m\u001B[38;5;28;01mTrue\u001B[39;00m)\n\u001B[0;32m     12\u001B[0m HRP_m \u001B[38;5;241m=\u001B[39m HRPOpt(dataset,np\u001B[38;5;241m.\u001B[39mcov)\n\u001B[1;32m---> 13\u001B[0m w_vector_m \u001B[38;5;241m=\u001B[39m \u001B[43mHRP_m\u001B[49m\u001B[38;5;241;43m.\u001B[39;49m\u001B[43moptimize\u001B[49m\u001B[43m(\u001B[49m\u001B[43m)\u001B[49m\n\u001B[0;32m     14\u001B[0m weights_m\u001B[38;5;241m=\u001B[39m w_vector_m\u001B[38;5;241m.\u001B[39mvalues()\n\u001B[0;32m     15\u001B[0m performance_m \u001B[38;5;241m=\u001B[39m HRP_m\u001B[38;5;241m.\u001B[39mportfolio_performance(risk_free_rate\u001B[38;5;241m=\u001B[39m \u001B[38;5;241m0.036\u001B[39m)\n",
      "File \u001B[1;32m~\\Desktop\\Hierarchical-Risk-Parity\\venv\\Lib\\site-packages\\pypfopt\\hierarchical_portfolio.py:167\u001B[0m, in \u001B[0;36mHRPOpt.optimize\u001B[1;34m(self, linkage_method)\u001B[0m\n\u001B[0;32m    164\u001B[0m matrix \u001B[38;5;241m=\u001B[39m np\u001B[38;5;241m.\u001B[39msqrt(np\u001B[38;5;241m.\u001B[39mclip((\u001B[38;5;241m1.0\u001B[39m \u001B[38;5;241m-\u001B[39m corr) \u001B[38;5;241m/\u001B[39m \u001B[38;5;241m2.0\u001B[39m, a_min\u001B[38;5;241m=\u001B[39m\u001B[38;5;241m0.0\u001B[39m, a_max\u001B[38;5;241m=\u001B[39m\u001B[38;5;241m1.0\u001B[39m))\n\u001B[0;32m    165\u001B[0m dist \u001B[38;5;241m=\u001B[39m ssd\u001B[38;5;241m.\u001B[39msquareform(matrix, checks\u001B[38;5;241m=\u001B[39m\u001B[38;5;28;01mFalse\u001B[39;00m)\n\u001B[1;32m--> 167\u001B[0m \u001B[38;5;28mself\u001B[39m\u001B[38;5;241m.\u001B[39mclusters \u001B[38;5;241m=\u001B[39m \u001B[43msch\u001B[49m\u001B[38;5;241;43m.\u001B[39;49m\u001B[43mlinkage\u001B[49m\u001B[43m(\u001B[49m\u001B[43mdist\u001B[49m\u001B[43m,\u001B[49m\u001B[43m \u001B[49m\u001B[43mlinkage_method\u001B[49m\u001B[43m)\u001B[49m\n\u001B[0;32m    168\u001B[0m sort_ix \u001B[38;5;241m=\u001B[39m HRPOpt\u001B[38;5;241m.\u001B[39m_get_quasi_diag(\u001B[38;5;28mself\u001B[39m\u001B[38;5;241m.\u001B[39mclusters)\n\u001B[0;32m    169\u001B[0m ordered_tickers \u001B[38;5;241m=\u001B[39m corr\u001B[38;5;241m.\u001B[39mindex[sort_ix]\u001B[38;5;241m.\u001B[39mtolist()\n",
      "File \u001B[1;32m~\\Desktop\\Hierarchical-Risk-Parity\\venv\\Lib\\site-packages\\scipy\\cluster\\hierarchy.py:1065\u001B[0m, in \u001B[0;36mlinkage\u001B[1;34m(y, method, metric, optimal_ordering)\u001B[0m\n\u001B[0;32m   1062\u001B[0m     \u001B[38;5;28;01mraise\u001B[39;00m \u001B[38;5;167;01mValueError\u001B[39;00m(\u001B[38;5;124m\"\u001B[39m\u001B[38;5;124m`y` must be 1 or 2 dimensional.\u001B[39m\u001B[38;5;124m\"\u001B[39m)\n\u001B[0;32m   1064\u001B[0m \u001B[38;5;28;01mif\u001B[39;00m \u001B[38;5;129;01mnot\u001B[39;00m np\u001B[38;5;241m.\u001B[39mall(np\u001B[38;5;241m.\u001B[39misfinite(y)):\n\u001B[1;32m-> 1065\u001B[0m     \u001B[38;5;28;01mraise\u001B[39;00m \u001B[38;5;167;01mValueError\u001B[39;00m(\u001B[38;5;124m\"\u001B[39m\u001B[38;5;124mThe condensed distance matrix must contain only \u001B[39m\u001B[38;5;124m\"\u001B[39m\n\u001B[0;32m   1066\u001B[0m                      \u001B[38;5;124m\"\u001B[39m\u001B[38;5;124mfinite values.\u001B[39m\u001B[38;5;124m\"\u001B[39m)\n\u001B[0;32m   1068\u001B[0m n \u001B[38;5;241m=\u001B[39m \u001B[38;5;28mint\u001B[39m(distance\u001B[38;5;241m.\u001B[39mnum_obs_y(y))\n\u001B[0;32m   1069\u001B[0m method_code \u001B[38;5;241m=\u001B[39m _LINKAGE_METHODS[method]\n",
      "\u001B[1;31mValueError\u001B[0m: The condensed distance matrix must contain only finite values."
     ]
    }
   ],
   "source": [
    "hrp_list = []\n",
    "\n",
    "for i in range(0,len(df)):\n",
    "\n",
    "    dataset= df[i]\n",
    "    month= dataset.Month.unique()[0]\n",
    "    year= dataset.Year.unique()[0]\n",
    "    dataset.replace([np.inf, -np.inf], np.nan, inplace=True)\n",
    "    dataset= df[i].drop(columns=['Month','Year']).dropna()\n",
    "    dataset.set_index('Date', inplace=True)\n",
    "\n",
    "    HRP_m = HRPOpt(dataset,np.cov)\n",
    "    w_vector_m = HRP_m.optimize()\n",
    "    weights_m= w_vector_m.values()\n",
    "    performance_m = HRP_m.portfolio_performance(risk_free_rate= 0.036)\n",
    "    rtrn_m = performance_m[0]*100\n",
    "    vol_m = performance_m[1]*100\n",
    "    hrp_list.append([month,year,rtrn_m,vol_m])\n"
   ]
  },
  {
   "cell_type": "code",
   "execution_count": 326,
   "id": "dd4270e6",
   "metadata": {},
   "outputs": [
    {
     "data": {
      "text/plain": [
       "<matplotlib.axes._subplots.AxesSubplot at 0x25191da4470>"
      ]
     },
     "execution_count": 326,
     "metadata": {},
     "output_type": "execute_result"
    },
    {
     "data": {
      "image/png": "[encoded data removed]",
      "text/plain": [
       "<Figure size 432x288 with 1 Axes>"
      ]
     },
     "metadata": {
      "needs_background": "light"
     },
     "output_type": "display_data"
    }
   ],
   "source": [
    "#Plotting\n",
    "\n",
    "hrp_df = pd.DataFrame(hrp_list, columns=[\"Month\",\"Year\",\"Returns\", \"Volatility\"])\n",
    "hrp_df.set_index(['Month','Year'],inplace=True)\n",
    "hrp_df['Volatility'].plot(x='Volatility')"
   ]
  },
  {
   "cell_type": "markdown",
   "id": "c4d16791",
   "metadata": {},
   "source": [
    "##  Markowitz (for entire data)"
   ]
  },
  {
   "cell_type": "code",
   "execution_count": 25,
   "id": "6314e09c",
   "metadata": {},
   "outputs": [
    {
     "data": {
      "text/plain": "                 BTC       ETH\nDate                          \n2019-01-02       NaN       NaN\n2019-01-03 -0.027422 -0.038881\n2019-01-04  0.005452  0.035872\n2019-01-05 -0.003252  0.006812\n2019-01-06  0.058447  0.013451\n...              ...       ...\n2021-12-28 -0.062151 -0.060401\n2021-12-29 -0.024336 -0.046408\n2021-12-30  0.015668  0.023242\n2021-12-31 -0.018649 -0.008442\n2022-01-01  0.029374  0.023367\n\n[1096 rows x 2 columns]",
      "text/html": "<div>\n<style scoped>\n    .dataframe tbody tr th:only-of-type {\n        vertical-align: middle;\n    }\n\n    .dataframe tbody tr th {\n        vertical-align: top;\n    }\n\n    .dataframe thead th {\n        text-align: right;\n    }\n</style>\n<table border=\"1\" class=\"dataframe\">\n  <thead>\n    <tr style=\"text-align: right;\">\n      <th></th>\n      <th>BTC</th>\n      <th>ETH</th>\n    </tr>\n    <tr>\n      <th>Date</th>\n      <th></th>\n      <th></th>\n    </tr>\n  </thead>\n  <tbody>\n    <tr>\n      <th>2019-01-02</th>\n      <td>NaN</td>\n      <td>NaN</td>\n    </tr>\n    <tr>\n      <th>2019-01-03</th>\n      <td>-0.027422</td>\n      <td>-0.038881</td>\n    </tr>\n    <tr>\n      <th>2019-01-04</th>\n      <td>0.005452</td>\n      <td>0.035872</td>\n    </tr>\n    <tr>\n      <th>2019-01-05</th>\n      <td>-0.003252</td>\n      <td>0.006812</td>\n    </tr>\n    <tr>\n      <th>2019-01-06</th>\n      <td>0.058447</td>\n      <td>0.013451</td>\n    </tr>\n    <tr>\n      <th>...</th>\n      <td>...</td>\n      <td>...</td>\n    </tr>\n    <tr>\n      <th>2021-12-28</th>\n      <td>-0.062151</td>\n      <td>-0.060401</td>\n    </tr>\n    <tr>\n      <th>2021-12-29</th>\n      <td>-0.024336</td>\n      <td>-0.046408</td>\n    </tr>\n    <tr>\n      <th>2021-12-30</th>\n      <td>0.015668</td>\n      <td>0.023242</td>\n    </tr>\n    <tr>\n      <th>2021-12-31</th>\n      <td>-0.018649</td>\n      <td>-0.008442</td>\n    </tr>\n    <tr>\n      <th>2022-01-01</th>\n      <td>0.029374</td>\n      <td>0.023367</td>\n    </tr>\n  </tbody>\n</table>\n<p>1096 rows × 2 columns</p>\n</div>"
     },
     "execution_count": 25,
     "metadata": {},
     "output_type": "execute_result"
    }
   ],
   "source": [
    "# Returns and Cov Matrix\n",
    "\n",
    "returns = new_data.mean()\n",
    "\n",
    "cov_matrix = new_data.cov()\n",
    "\n",
    "# data.apply(gmean)\n",
    "#geomtric means cannot be applied or negative numbers/zeros. In that case need log returns instead of pct_change for prices\n"
   ]
  },
  {
   "cell_type": "code",
   "execution_count": 27,
   "id": "5acea9f1",
   "metadata": {},
   "outputs": [],
   "source": [
    "# Weights for n number of coins\n",
    "random.seed(0)\n",
    "weights = np.random.random(2)\n",
    "weights /= weights.sum()\n",
    "\n",
    "#Define number of portfolios (Assuming 100)\n",
    "\n",
    "n_port =100\n"
   ]
  },
  {
   "cell_type": "code",
   "execution_count": 28,
   "id": "7f6abd63",
   "metadata": {},
   "outputs": [],
   "source": [
    "#Expected Portfolio Returns\n",
    "\n",
    "port_rtrn = returns.dot(weights)*100\n"
   ]
  },
  {
   "cell_type": "code",
   "execution_count": 30,
   "id": "bd2117c3",
   "metadata": {},
   "outputs": [],
   "source": [
    "# Markovitz Model\n",
    "\n",
    "#@ operator - shorthand for np.matmul (matrix multiplication)\n",
    "port_var = np.transpose(weights)@cov_matrix@weights\n",
    "port_vol = np.sqrt(port_var)*np.sqrt(252)\n"
   ]
  },
  {
   "cell_type": "markdown",
   "id": "0677f90c",
   "metadata": {},
   "source": [
    "## Monthly Markovitz"
   ]
  },
  {
   "cell_type": "code",
   "execution_count": 32,
   "id": "ed9b151e",
   "metadata": {},
   "outputs": [
    {
     "name": "stderr",
     "output_type": "stream",
     "text": [
      "C:\\Users\\Nilakshi Mondal\\AppData\\Local\\Temp\\ipykernel_36816\\3613977431.py:9: SettingWithCopyWarning: \n",
      "A value is trying to be set on a copy of a slice from a DataFrame\n",
      "\n",
      "See the caveats in the documentation: https://pandas.pydata.org/pandas-docs/stable/user_guide/indexing.html#returning-a-view-versus-a-copy\n",
      "  dataset.replace([np.inf, -np.inf], np.nan, inplace=True)\n",
      "C:\\Users\\Nilakshi Mondal\\AppData\\Local\\Temp\\ipykernel_36816\\3613977431.py:9: SettingWithCopyWarning: \n",
      "A value is trying to be set on a copy of a slice from a DataFrame\n",
      "\n",
      "See the caveats in the documentation: https://pandas.pydata.org/pandas-docs/stable/user_guide/indexing.html#returning-a-view-versus-a-copy\n",
      "  dataset.replace([np.inf, -np.inf], np.nan, inplace=True)\n",
      "C:\\Users\\Nilakshi Mondal\\AppData\\Local\\Temp\\ipykernel_36816\\3613977431.py:9: SettingWithCopyWarning: \n",
      "A value is trying to be set on a copy of a slice from a DataFrame\n",
      "\n",
      "See the caveats in the documentation: https://pandas.pydata.org/pandas-docs/stable/user_guide/indexing.html#returning-a-view-versus-a-copy\n",
      "  dataset.replace([np.inf, -np.inf], np.nan, inplace=True)\n",
      "C:\\Users\\Nilakshi Mondal\\AppData\\Local\\Temp\\ipykernel_36816\\3613977431.py:9: SettingWithCopyWarning: \n",
      "A value is trying to be set on a copy of a slice from a DataFrame\n",
      "\n",
      "See the caveats in the documentation: https://pandas.pydata.org/pandas-docs/stable/user_guide/indexing.html#returning-a-view-versus-a-copy\n",
      "  dataset.replace([np.inf, -np.inf], np.nan, inplace=True)\n",
      "C:\\Users\\Nilakshi Mondal\\AppData\\Local\\Temp\\ipykernel_36816\\3613977431.py:9: SettingWithCopyWarning: \n",
      "A value is trying to be set on a copy of a slice from a DataFrame\n",
      "\n",
      "See the caveats in the documentation: https://pandas.pydata.org/pandas-docs/stable/user_guide/indexing.html#returning-a-view-versus-a-copy\n",
      "  dataset.replace([np.inf, -np.inf], np.nan, inplace=True)\n",
      "C:\\Users\\Nilakshi Mondal\\AppData\\Local\\Temp\\ipykernel_36816\\3613977431.py:9: SettingWithCopyWarning: \n",
      "A value is trying to be set on a copy of a slice from a DataFrame\n",
      "\n",
      "See the caveats in the documentation: https://pandas.pydata.org/pandas-docs/stable/user_guide/indexing.html#returning-a-view-versus-a-copy\n",
      "  dataset.replace([np.inf, -np.inf], np.nan, inplace=True)\n",
      "C:\\Users\\Nilakshi Mondal\\AppData\\Local\\Temp\\ipykernel_36816\\3613977431.py:9: SettingWithCopyWarning: \n",
      "A value is trying to be set on a copy of a slice from a DataFrame\n",
      "\n",
      "See the caveats in the documentation: https://pandas.pydata.org/pandas-docs/stable/user_guide/indexing.html#returning-a-view-versus-a-copy\n",
      "  dataset.replace([np.inf, -np.inf], np.nan, inplace=True)\n",
      "C:\\Users\\Nilakshi Mondal\\AppData\\Local\\Temp\\ipykernel_36816\\3613977431.py:9: SettingWithCopyWarning: \n",
      "A value is trying to be set on a copy of a slice from a DataFrame\n",
      "\n",
      "See the caveats in the documentation: https://pandas.pydata.org/pandas-docs/stable/user_guide/indexing.html#returning-a-view-versus-a-copy\n",
      "  dataset.replace([np.inf, -np.inf], np.nan, inplace=True)\n",
      "C:\\Users\\Nilakshi Mondal\\AppData\\Local\\Temp\\ipykernel_36816\\3613977431.py:9: SettingWithCopyWarning: \n",
      "A value is trying to be set on a copy of a slice from a DataFrame\n",
      "\n",
      "See the caveats in the documentation: https://pandas.pydata.org/pandas-docs/stable/user_guide/indexing.html#returning-a-view-versus-a-copy\n",
      "  dataset.replace([np.inf, -np.inf], np.nan, inplace=True)\n",
      "C:\\Users\\Nilakshi Mondal\\AppData\\Local\\Temp\\ipykernel_36816\\3613977431.py:9: SettingWithCopyWarning: \n",
      "A value is trying to be set on a copy of a slice from a DataFrame\n",
      "\n",
      "See the caveats in the documentation: https://pandas.pydata.org/pandas-docs/stable/user_guide/indexing.html#returning-a-view-versus-a-copy\n",
      "  dataset.replace([np.inf, -np.inf], np.nan, inplace=True)\n",
      "C:\\Users\\Nilakshi Mondal\\AppData\\Local\\Temp\\ipykernel_36816\\3613977431.py:9: SettingWithCopyWarning: \n",
      "A value is trying to be set on a copy of a slice from a DataFrame\n",
      "\n",
      "See the caveats in the documentation: https://pandas.pydata.org/pandas-docs/stable/user_guide/indexing.html#returning-a-view-versus-a-copy\n",
      "  dataset.replace([np.inf, -np.inf], np.nan, inplace=True)\n",
      "C:\\Users\\Nilakshi Mondal\\AppData\\Local\\Temp\\ipykernel_36816\\3613977431.py:9: SettingWithCopyWarning: \n",
      "A value is trying to be set on a copy of a slice from a DataFrame\n",
      "\n",
      "See the caveats in the documentation: https://pandas.pydata.org/pandas-docs/stable/user_guide/indexing.html#returning-a-view-versus-a-copy\n",
      "  dataset.replace([np.inf, -np.inf], np.nan, inplace=True)\n",
      "C:\\Users\\Nilakshi Mondal\\AppData\\Local\\Temp\\ipykernel_36816\\3613977431.py:9: SettingWithCopyWarning: \n",
      "A value is trying to be set on a copy of a slice from a DataFrame\n",
      "\n",
      "See the caveats in the documentation: https://pandas.pydata.org/pandas-docs/stable/user_guide/indexing.html#returning-a-view-versus-a-copy\n",
      "  dataset.replace([np.inf, -np.inf], np.nan, inplace=True)\n",
      "C:\\Users\\Nilakshi Mondal\\AppData\\Local\\Temp\\ipykernel_36816\\3613977431.py:9: SettingWithCopyWarning: \n",
      "A value is trying to be set on a copy of a slice from a DataFrame\n",
      "\n",
      "See the caveats in the documentation: https://pandas.pydata.org/pandas-docs/stable/user_guide/indexing.html#returning-a-view-versus-a-copy\n",
      "  dataset.replace([np.inf, -np.inf], np.nan, inplace=True)\n",
      "C:\\Users\\Nilakshi Mondal\\AppData\\Local\\Temp\\ipykernel_36816\\3613977431.py:9: SettingWithCopyWarning: \n",
      "A value is trying to be set on a copy of a slice from a DataFrame\n",
      "\n",
      "See the caveats in the documentation: https://pandas.pydata.org/pandas-docs/stable/user_guide/indexing.html#returning-a-view-versus-a-copy\n",
      "  dataset.replace([np.inf, -np.inf], np.nan, inplace=True)\n",
      "C:\\Users\\Nilakshi Mondal\\AppData\\Local\\Temp\\ipykernel_36816\\3613977431.py:9: SettingWithCopyWarning: \n",
      "A value is trying to be set on a copy of a slice from a DataFrame\n",
      "\n",
      "See the caveats in the documentation: https://pandas.pydata.org/pandas-docs/stable/user_guide/indexing.html#returning-a-view-versus-a-copy\n",
      "  dataset.replace([np.inf, -np.inf], np.nan, inplace=True)\n",
      "C:\\Users\\Nilakshi Mondal\\AppData\\Local\\Temp\\ipykernel_36816\\3613977431.py:9: SettingWithCopyWarning: \n",
      "A value is trying to be set on a copy of a slice from a DataFrame\n",
      "\n",
      "See the caveats in the documentation: https://pandas.pydata.org/pandas-docs/stable/user_guide/indexing.html#returning-a-view-versus-a-copy\n",
      "  dataset.replace([np.inf, -np.inf], np.nan, inplace=True)\n",
      "C:\\Users\\Nilakshi Mondal\\AppData\\Local\\Temp\\ipykernel_36816\\3613977431.py:9: SettingWithCopyWarning: \n",
      "A value is trying to be set on a copy of a slice from a DataFrame\n",
      "\n",
      "See the caveats in the documentation: https://pandas.pydata.org/pandas-docs/stable/user_guide/indexing.html#returning-a-view-versus-a-copy\n",
      "  dataset.replace([np.inf, -np.inf], np.nan, inplace=True)\n",
      "C:\\Users\\Nilakshi Mondal\\AppData\\Local\\Temp\\ipykernel_36816\\3613977431.py:9: SettingWithCopyWarning: \n",
      "A value is trying to be set on a copy of a slice from a DataFrame\n",
      "\n",
      "See the caveats in the documentation: https://pandas.pydata.org/pandas-docs/stable/user_guide/indexing.html#returning-a-view-versus-a-copy\n",
      "  dataset.replace([np.inf, -np.inf], np.nan, inplace=True)\n",
      "C:\\Users\\Nilakshi Mondal\\AppData\\Local\\Temp\\ipykernel_36816\\3613977431.py:9: SettingWithCopyWarning: \n",
      "A value is trying to be set on a copy of a slice from a DataFrame\n",
      "\n",
      "See the caveats in the documentation: https://pandas.pydata.org/pandas-docs/stable/user_guide/indexing.html#returning-a-view-versus-a-copy\n",
      "  dataset.replace([np.inf, -np.inf], np.nan, inplace=True)\n",
      "C:\\Users\\Nilakshi Mondal\\AppData\\Local\\Temp\\ipykernel_36816\\3613977431.py:9: SettingWithCopyWarning: \n",
      "A value is trying to be set on a copy of a slice from a DataFrame\n",
      "\n",
      "See the caveats in the documentation: https://pandas.pydata.org/pandas-docs/stable/user_guide/indexing.html#returning-a-view-versus-a-copy\n",
      "  dataset.replace([np.inf, -np.inf], np.nan, inplace=True)\n",
      "C:\\Users\\Nilakshi Mondal\\AppData\\Local\\Temp\\ipykernel_36816\\3613977431.py:9: SettingWithCopyWarning: \n",
      "A value is trying to be set on a copy of a slice from a DataFrame\n",
      "\n",
      "See the caveats in the documentation: https://pandas.pydata.org/pandas-docs/stable/user_guide/indexing.html#returning-a-view-versus-a-copy\n",
      "  dataset.replace([np.inf, -np.inf], np.nan, inplace=True)\n",
      "C:\\Users\\Nilakshi Mondal\\AppData\\Local\\Temp\\ipykernel_36816\\3613977431.py:9: SettingWithCopyWarning: \n",
      "A value is trying to be set on a copy of a slice from a DataFrame\n",
      "\n",
      "See the caveats in the documentation: https://pandas.pydata.org/pandas-docs/stable/user_guide/indexing.html#returning-a-view-versus-a-copy\n",
      "  dataset.replace([np.inf, -np.inf], np.nan, inplace=True)\n",
      "C:\\Users\\Nilakshi Mondal\\AppData\\Local\\Temp\\ipykernel_36816\\3613977431.py:9: SettingWithCopyWarning: \n",
      "A value is trying to be set on a copy of a slice from a DataFrame\n",
      "\n",
      "See the caveats in the documentation: https://pandas.pydata.org/pandas-docs/stable/user_guide/indexing.html#returning-a-view-versus-a-copy\n",
      "  dataset.replace([np.inf, -np.inf], np.nan, inplace=True)\n",
      "C:\\Users\\Nilakshi Mondal\\AppData\\Local\\Temp\\ipykernel_36816\\3613977431.py:9: SettingWithCopyWarning: \n",
      "A value is trying to be set on a copy of a slice from a DataFrame\n",
      "\n",
      "See the caveats in the documentation: https://pandas.pydata.org/pandas-docs/stable/user_guide/indexing.html#returning-a-view-versus-a-copy\n",
      "  dataset.replace([np.inf, -np.inf], np.nan, inplace=True)\n",
      "C:\\Users\\Nilakshi Mondal\\AppData\\Local\\Temp\\ipykernel_36816\\3613977431.py:9: SettingWithCopyWarning: \n",
      "A value is trying to be set on a copy of a slice from a DataFrame\n",
      "\n",
      "See the caveats in the documentation: https://pandas.pydata.org/pandas-docs/stable/user_guide/indexing.html#returning-a-view-versus-a-copy\n",
      "  dataset.replace([np.inf, -np.inf], np.nan, inplace=True)\n",
      "C:\\Users\\Nilakshi Mondal\\AppData\\Local\\Temp\\ipykernel_36816\\3613977431.py:9: SettingWithCopyWarning: \n",
      "A value is trying to be set on a copy of a slice from a DataFrame\n",
      "\n",
      "See the caveats in the documentation: https://pandas.pydata.org/pandas-docs/stable/user_guide/indexing.html#returning-a-view-versus-a-copy\n",
      "  dataset.replace([np.inf, -np.inf], np.nan, inplace=True)\n",
      "C:\\Users\\Nilakshi Mondal\\AppData\\Local\\Temp\\ipykernel_36816\\3613977431.py:9: SettingWithCopyWarning: \n",
      "A value is trying to be set on a copy of a slice from a DataFrame\n",
      "\n",
      "See the caveats in the documentation: https://pandas.pydata.org/pandas-docs/stable/user_guide/indexing.html#returning-a-view-versus-a-copy\n",
      "  dataset.replace([np.inf, -np.inf], np.nan, inplace=True)\n",
      "C:\\Users\\Nilakshi Mondal\\AppData\\Local\\Temp\\ipykernel_36816\\3613977431.py:9: SettingWithCopyWarning: \n",
      "A value is trying to be set on a copy of a slice from a DataFrame\n",
      "\n",
      "See the caveats in the documentation: https://pandas.pydata.org/pandas-docs/stable/user_guide/indexing.html#returning-a-view-versus-a-copy\n",
      "  dataset.replace([np.inf, -np.inf], np.nan, inplace=True)\n",
      "C:\\Users\\Nilakshi Mondal\\AppData\\Local\\Temp\\ipykernel_36816\\3613977431.py:9: SettingWithCopyWarning: \n",
      "A value is trying to be set on a copy of a slice from a DataFrame\n",
      "\n",
      "See the caveats in the documentation: https://pandas.pydata.org/pandas-docs/stable/user_guide/indexing.html#returning-a-view-versus-a-copy\n",
      "  dataset.replace([np.inf, -np.inf], np.nan, inplace=True)\n",
      "C:\\Users\\Nilakshi Mondal\\AppData\\Local\\Temp\\ipykernel_36816\\3613977431.py:9: SettingWithCopyWarning: \n",
      "A value is trying to be set on a copy of a slice from a DataFrame\n",
      "\n",
      "See the caveats in the documentation: https://pandas.pydata.org/pandas-docs/stable/user_guide/indexing.html#returning-a-view-versus-a-copy\n",
      "  dataset.replace([np.inf, -np.inf], np.nan, inplace=True)\n",
      "C:\\Users\\Nilakshi Mondal\\AppData\\Local\\Temp\\ipykernel_36816\\3613977431.py:9: SettingWithCopyWarning: \n",
      "A value is trying to be set on a copy of a slice from a DataFrame\n",
      "\n",
      "See the caveats in the documentation: https://pandas.pydata.org/pandas-docs/stable/user_guide/indexing.html#returning-a-view-versus-a-copy\n",
      "  dataset.replace([np.inf, -np.inf], np.nan, inplace=True)\n",
      "C:\\Users\\Nilakshi Mondal\\AppData\\Local\\Temp\\ipykernel_36816\\3613977431.py:9: SettingWithCopyWarning: \n",
      "A value is trying to be set on a copy of a slice from a DataFrame\n",
      "\n",
      "See the caveats in the documentation: https://pandas.pydata.org/pandas-docs/stable/user_guide/indexing.html#returning-a-view-versus-a-copy\n",
      "  dataset.replace([np.inf, -np.inf], np.nan, inplace=True)\n",
      "C:\\Users\\Nilakshi Mondal\\AppData\\Local\\Temp\\ipykernel_36816\\3613977431.py:9: SettingWithCopyWarning: \n",
      "A value is trying to be set on a copy of a slice from a DataFrame\n",
      "\n",
      "See the caveats in the documentation: https://pandas.pydata.org/pandas-docs/stable/user_guide/indexing.html#returning-a-view-versus-a-copy\n",
      "  dataset.replace([np.inf, -np.inf], np.nan, inplace=True)\n",
      "C:\\Users\\Nilakshi Mondal\\AppData\\Local\\Temp\\ipykernel_36816\\3613977431.py:9: SettingWithCopyWarning: \n",
      "A value is trying to be set on a copy of a slice from a DataFrame\n",
      "\n",
      "See the caveats in the documentation: https://pandas.pydata.org/pandas-docs/stable/user_guide/indexing.html#returning-a-view-versus-a-copy\n",
      "  dataset.replace([np.inf, -np.inf], np.nan, inplace=True)\n",
      "C:\\Users\\Nilakshi Mondal\\AppData\\Local\\Temp\\ipykernel_36816\\3613977431.py:9: SettingWithCopyWarning: \n",
      "A value is trying to be set on a copy of a slice from a DataFrame\n",
      "\n",
      "See the caveats in the documentation: https://pandas.pydata.org/pandas-docs/stable/user_guide/indexing.html#returning-a-view-versus-a-copy\n",
      "  dataset.replace([np.inf, -np.inf], np.nan, inplace=True)\n",
      "C:\\Users\\Nilakshi Mondal\\AppData\\Local\\Temp\\ipykernel_36816\\3613977431.py:9: SettingWithCopyWarning: \n",
      "A value is trying to be set on a copy of a slice from a DataFrame\n",
      "\n",
      "See the caveats in the documentation: https://pandas.pydata.org/pandas-docs/stable/user_guide/indexing.html#returning-a-view-versus-a-copy\n",
      "  dataset.replace([np.inf, -np.inf], np.nan, inplace=True)\n"
     ]
    }
   ],
   "source": [
    "marko_list = []\n",
    "vol = 1\n",
    "\n",
    "for i in range(0,len(df)):\n",
    "       \n",
    "    dataset= df[i]\n",
    "    month= dataset.Month.unique()[0]\n",
    "    year= dataset.Year.unique()[0]\n",
    "    dataset.replace([np.inf, -np.inf], np.nan, inplace=True)\n",
    "    dataset= df[i].drop(columns=['Month','Year']).dropna()\n",
    "    dataset.set_index('Date', inplace=True)\n",
    "\n",
    "    vol = 1\n",
    "    for j in range(0,n_port):\n",
    "        \n",
    "        random.seed(0)\n",
    "        weights1 = np.random.random(2)\n",
    "        weights1 /= weights1.sum()\n",
    "        portrtrn = returns.dot(weights1)*100\n",
    "        portvar = np.transpose(weights1)@cov_matrix@weights1\n",
    "        portvol = np.sqrt(portvar)*np.sqrt(252)*100\n",
    "        if portvol< vol:\n",
    "            vol = portvol\n",
    "        else:\n",
    "            continue\n",
    "    marko_list.append([month,year,portrtrn,vol])\n"
   ]
  },
  {
   "cell_type": "code",
   "execution_count": 33,
   "id": "12238ac6",
   "metadata": {},
   "outputs": [
    {
     "data": {
      "text/plain": "<AxesSubplot: xlabel='Month,Year'>"
     },
     "execution_count": 33,
     "metadata": {},
     "output_type": "execute_result"
    },
    {
     "data": {
      "text/plain": "<Figure size 640x480 with 1 Axes>",
      "image/png": "[encoded data removed]"
     },
     "metadata": {},
     "output_type": "display_data"
    }
   ],
   "source": [
    "#Plotting\n",
    "\n",
    "marko_df = pd.DataFrame(marko_list, columns=[\"Month\",\"Year\",\"Returns\", \"Volatility\"])\n",
    "marko_df.set_index(['Month','Year'],inplace=True)\n",
    "marko_df['Volatility'].plot(x='Volatility')"
   ]
  },
  {
   "cell_type": "markdown",
   "id": "e18f8b69",
   "metadata": {},
   "source": [
    "## Actual Vol (Entire Data)"
   ]
  },
  {
   "cell_type": "code",
   "execution_count": 35,
   "id": "48b394a8",
   "metadata": {},
   "outputs": [],
   "source": [
    "act_vol =new_data.std().std(axis=0)\n"
   ]
  },
  {
   "cell_type": "markdown",
   "id": "d49579ba",
   "metadata": {},
   "source": [
    "## Actual Vol Monthly"
   ]
  },
  {
   "cell_type": "code",
   "execution_count": 37,
   "id": "28fe9901",
   "metadata": {},
   "outputs": [
    {
     "name": "stderr",
     "output_type": "stream",
     "text": [
      "C:\\Users\\Nilakshi Mondal\\AppData\\Local\\Temp\\ipykernel_36816\\1035967473.py:1: FutureWarning: The default value of numeric_only in DataFrameGroupBy.std is deprecated. In a future version, numeric_only will default to False. Either specify numeric_only or select only columns which should be valid for the function.\n",
      "  mon_vol= log_returns.groupby(['Year','Month']).std().std(axis=1)\n"
     ]
    }
   ],
   "source": [
    "mon_vol= log_returns.groupby(['Year','Month']).std().std(axis=1)\n"
   ]
  },
  {
   "cell_type": "markdown",
   "id": "cf7cf560",
   "metadata": {},
   "source": [
    "## Plot ALL"
   ]
  },
  {
   "cell_type": "code",
   "execution_count": 40,
   "id": "7336e15a",
   "metadata": {},
   "outputs": [
    {
     "ename": "NameError",
     "evalue": "name 'hrp_df' is not defined",
     "output_type": "error",
     "traceback": [
      "\u001B[1;31m---------------------------------------------------------------------------\u001B[0m",
      "\u001B[1;31mNameError\u001B[0m                                 Traceback (most recent call last)",
      "Cell \u001B[1;32mIn[40], line 6\u001B[0m\n\u001B[0;32m      4\u001B[0m mon_vol\u001B[38;5;241m.\u001B[39mdropna()\u001B[38;5;241m.\u001B[39mplot(label\u001B[38;5;241m=\u001B[39m\u001B[38;5;124m'\u001B[39m\u001B[38;5;124mActual\u001B[39m\u001B[38;5;124m'\u001B[39m)\n\u001B[0;32m      5\u001B[0m marko_df[\u001B[38;5;124m'\u001B[39m\u001B[38;5;124mVolatility\u001B[39m\u001B[38;5;124m'\u001B[39m]\u001B[38;5;241m.\u001B[39mplot(x\u001B[38;5;241m=\u001B[39m\u001B[38;5;124m'\u001B[39m\u001B[38;5;124mVolatility\u001B[39m\u001B[38;5;124m'\u001B[39m,label\u001B[38;5;241m=\u001B[39m\u001B[38;5;124m'\u001B[39m\u001B[38;5;124mMarkowitz\u001B[39m\u001B[38;5;124m'\u001B[39m)\n\u001B[1;32m----> 6\u001B[0m \u001B[43mhrp_df\u001B[49m[\u001B[38;5;124m'\u001B[39m\u001B[38;5;124mVolatility\u001B[39m\u001B[38;5;124m'\u001B[39m]\u001B[38;5;241m.\u001B[39mplot(x\u001B[38;5;241m=\u001B[39m\u001B[38;5;124m'\u001B[39m\u001B[38;5;124mVolatility\u001B[39m\u001B[38;5;124m'\u001B[39m,label\u001B[38;5;241m=\u001B[39m\u001B[38;5;124m'\u001B[39m\u001B[38;5;124mHRP\u001B[39m\u001B[38;5;124m'\u001B[39m)\n\u001B[0;32m      7\u001B[0m ax\u001B[38;5;241m.\u001B[39mlegend()\n",
      "\u001B[1;31mNameError\u001B[0m: name 'hrp_df' is not defined"
     ]
    },
    {
     "data": {
      "text/plain": "<Figure size 640x480 with 1 Axes>",
      "image/png": "[encoded data removed]"
     },
     "metadata": {},
     "output_type": "display_data"
    }
   ],
   "source": [
    "#Monthly Volatility\n",
    "\n",
    "fig,ax= plt.subplots()\n",
    "mon_vol.dropna().plot(label='Actual')\n",
    "marko_df['Volatility'].plot(x='Volatility',label='Markowitz')\n",
    "hrp_df['Volatility'].plot(x='Volatility',label='HRP')\n",
    "ax.legend()"
   ]
  },
  {
   "cell_type": "code",
   "execution_count": 41,
   "id": "dc2182f2",
   "metadata": {},
   "outputs": [
    {
     "name": "stderr",
     "output_type": "stream",
     "text": [
      "C:\\Users\\Nilakshi Mondal\\AppData\\Local\\Temp\\ipykernel_36816\\3560667793.py:3: FutureWarning: The default value of numeric_only in DataFrameGroupBy.mean is deprecated. In a future version, numeric_only will default to False. Either specify numeric_only or select only columns which should be valid for the function.\n",
      "  mon_rtrn = log_returns.groupby(['Year','Month']).mean().mean(axis=1)\n"
     ]
    },
    {
     "ename": "NameError",
     "evalue": "name 'hrp_df' is not defined",
     "output_type": "error",
     "traceback": [
      "\u001B[1;31m---------------------------------------------------------------------------\u001B[0m",
      "\u001B[1;31mNameError\u001B[0m                                 Traceback (most recent call last)",
      "Cell \u001B[1;32mIn[41], line 8\u001B[0m\n\u001B[0;32m      6\u001B[0m mon_rtrn\u001B[38;5;241m.\u001B[39mdropna()\u001B[38;5;241m.\u001B[39mplot(label\u001B[38;5;241m=\u001B[39m\u001B[38;5;124m'\u001B[39m\u001B[38;5;124mActual\u001B[39m\u001B[38;5;124m'\u001B[39m)\n\u001B[0;32m      7\u001B[0m marko_df[\u001B[38;5;124m'\u001B[39m\u001B[38;5;124mReturns\u001B[39m\u001B[38;5;124m'\u001B[39m]\u001B[38;5;241m.\u001B[39mplot(x\u001B[38;5;241m=\u001B[39m\u001B[38;5;124m'\u001B[39m\u001B[38;5;124mReturns\u001B[39m\u001B[38;5;124m'\u001B[39m,label\u001B[38;5;241m=\u001B[39m\u001B[38;5;124m'\u001B[39m\u001B[38;5;124mMarkowitz\u001B[39m\u001B[38;5;124m'\u001B[39m)\n\u001B[1;32m----> 8\u001B[0m \u001B[43mhrp_df\u001B[49m[\u001B[38;5;124m'\u001B[39m\u001B[38;5;124mReturns\u001B[39m\u001B[38;5;124m'\u001B[39m]\u001B[38;5;241m.\u001B[39mplot(x\u001B[38;5;241m=\u001B[39m\u001B[38;5;124m'\u001B[39m\u001B[38;5;124mReturns\u001B[39m\u001B[38;5;124m'\u001B[39m,label\u001B[38;5;241m=\u001B[39m\u001B[38;5;124m'\u001B[39m\u001B[38;5;124mHRP\u001B[39m\u001B[38;5;124m'\u001B[39m)\n\u001B[0;32m      9\u001B[0m ax\u001B[38;5;241m.\u001B[39mlegend()\n",
      "\u001B[1;31mNameError\u001B[0m: name 'hrp_df' is not defined"
     ]
    },
    {
     "data": {
      "text/plain": "<Figure size 640x480 with 1 Axes>",
      "image/png": "[encoded data removed]"
     },
     "metadata": {},
     "output_type": "display_data"
    }
   ],
   "source": [
    "#Monthly Returns\n",
    "\n",
    "mon_rtrn = log_returns.groupby(['Year','Month']).mean().mean(axis=1)\n",
    "\n",
    "fig,ax= plt.subplots()\n",
    "mon_rtrn.dropna().plot(label='Actual')\n",
    "marko_df['Returns'].plot(x='Returns',label='Markowitz')\n",
    "hrp_df['Returns'].plot(x='Returns',label='HRP')\n",
    "ax.legend()"
   ]
  },
  {
   "cell_type": "markdown",
   "id": "e60877ea",
   "metadata": {},
   "source": [
    "## Performance Measure\n"
   ]
  },
  {
   "cell_type": "code",
   "execution_count": 42,
   "id": "64aa08b9",
   "metadata": {},
   "outputs": [
    {
     "ename": "ValueError",
     "evalue": "Found input variables with inconsistent numbers of samples: [36, 37]",
     "output_type": "error",
     "traceback": [
      "\u001B[1;31m---------------------------------------------------------------------------\u001B[0m",
      "\u001B[1;31mValueError\u001B[0m                                Traceback (most recent call last)",
      "Cell \u001B[1;32mIn[42], line 4\u001B[0m\n\u001B[0;32m      1\u001B[0m \u001B[38;5;66;03m#Volatility\u001B[39;00m\n\u001B[0;32m      2\u001B[0m \n\u001B[0;32m      3\u001B[0m \u001B[38;5;66;03m#Markowitz\u001B[39;00m\n\u001B[1;32m----> 4\u001B[0m mv \u001B[38;5;241m=\u001B[39m\u001B[43mmean_squared_error\u001B[49m\u001B[43m(\u001B[49m\u001B[43mmon_vol\u001B[49m\u001B[38;5;241;43m.\u001B[39;49m\u001B[43mdropna\u001B[49m\u001B[43m(\u001B[49m\u001B[43m)\u001B[49m\u001B[43m,\u001B[49m\u001B[43mmarko_df\u001B[49m\u001B[43m[\u001B[49m\u001B[38;5;124;43m'\u001B[39;49m\u001B[38;5;124;43mVolatility\u001B[39;49m\u001B[38;5;124;43m'\u001B[39;49m\u001B[43m]\u001B[49m\u001B[43m)\u001B[49m\n\u001B[0;32m      6\u001B[0m \u001B[38;5;66;03m#HRP\u001B[39;00m\n\u001B[0;32m      7\u001B[0m hv \u001B[38;5;241m=\u001B[39mmean_squared_error(mon_vol\u001B[38;5;241m.\u001B[39mdropna(),hrp_df[\u001B[38;5;124m'\u001B[39m\u001B[38;5;124mVolatility\u001B[39m\u001B[38;5;124m'\u001B[39m])\n",
      "File \u001B[1;32m~\\Desktop\\Hierarchical-Risk-Parity\\venv\\Lib\\site-packages\\sklearn\\metrics\\_regression.py:442\u001B[0m, in \u001B[0;36mmean_squared_error\u001B[1;34m(y_true, y_pred, sample_weight, multioutput, squared)\u001B[0m\n\u001B[0;32m    382\u001B[0m \u001B[38;5;28;01mdef\u001B[39;00m \u001B[38;5;21mmean_squared_error\u001B[39m(\n\u001B[0;32m    383\u001B[0m     y_true, y_pred, \u001B[38;5;241m*\u001B[39m, sample_weight\u001B[38;5;241m=\u001B[39m\u001B[38;5;28;01mNone\u001B[39;00m, multioutput\u001B[38;5;241m=\u001B[39m\u001B[38;5;124m\"\u001B[39m\u001B[38;5;124muniform_average\u001B[39m\u001B[38;5;124m\"\u001B[39m, squared\u001B[38;5;241m=\u001B[39m\u001B[38;5;28;01mTrue\u001B[39;00m\n\u001B[0;32m    384\u001B[0m ):\n\u001B[0;32m    385\u001B[0m \u001B[38;5;250m    \u001B[39m\u001B[38;5;124;03m\"\"\"Mean squared error regression loss.\u001B[39;00m\n\u001B[0;32m    386\u001B[0m \n\u001B[0;32m    387\u001B[0m \u001B[38;5;124;03m    Read more in the :ref:`User Guide <mean_squared_error>`.\u001B[39;00m\n\u001B[1;32m   (...)\u001B[0m\n\u001B[0;32m    440\u001B[0m \u001B[38;5;124;03m    0.825...\u001B[39;00m\n\u001B[0;32m    441\u001B[0m \u001B[38;5;124;03m    \"\"\"\u001B[39;00m\n\u001B[1;32m--> 442\u001B[0m     y_type, y_true, y_pred, multioutput \u001B[38;5;241m=\u001B[39m \u001B[43m_check_reg_targets\u001B[49m\u001B[43m(\u001B[49m\n\u001B[0;32m    443\u001B[0m \u001B[43m        \u001B[49m\u001B[43my_true\u001B[49m\u001B[43m,\u001B[49m\u001B[43m \u001B[49m\u001B[43my_pred\u001B[49m\u001B[43m,\u001B[49m\u001B[43m \u001B[49m\u001B[43mmultioutput\u001B[49m\n\u001B[0;32m    444\u001B[0m \u001B[43m    \u001B[49m\u001B[43m)\u001B[49m\n\u001B[0;32m    445\u001B[0m     check_consistent_length(y_true, y_pred, sample_weight)\n\u001B[0;32m    446\u001B[0m     output_errors \u001B[38;5;241m=\u001B[39m np\u001B[38;5;241m.\u001B[39maverage((y_true \u001B[38;5;241m-\u001B[39m y_pred) \u001B[38;5;241m*\u001B[39m\u001B[38;5;241m*\u001B[39m \u001B[38;5;241m2\u001B[39m, axis\u001B[38;5;241m=\u001B[39m\u001B[38;5;241m0\u001B[39m, weights\u001B[38;5;241m=\u001B[39msample_weight)\n",
      "File \u001B[1;32m~\\Desktop\\Hierarchical-Risk-Parity\\venv\\Lib\\site-packages\\sklearn\\metrics\\_regression.py:100\u001B[0m, in \u001B[0;36m_check_reg_targets\u001B[1;34m(y_true, y_pred, multioutput, dtype)\u001B[0m\n\u001B[0;32m     66\u001B[0m \u001B[38;5;28;01mdef\u001B[39;00m \u001B[38;5;21m_check_reg_targets\u001B[39m(y_true, y_pred, multioutput, dtype\u001B[38;5;241m=\u001B[39m\u001B[38;5;124m\"\u001B[39m\u001B[38;5;124mnumeric\u001B[39m\u001B[38;5;124m\"\u001B[39m):\n\u001B[0;32m     67\u001B[0m \u001B[38;5;250m    \u001B[39m\u001B[38;5;124;03m\"\"\"Check that y_true and y_pred belong to the same regression task.\u001B[39;00m\n\u001B[0;32m     68\u001B[0m \n\u001B[0;32m     69\u001B[0m \u001B[38;5;124;03m    Parameters\u001B[39;00m\n\u001B[1;32m   (...)\u001B[0m\n\u001B[0;32m     98\u001B[0m \u001B[38;5;124;03m        correct keyword.\u001B[39;00m\n\u001B[0;32m     99\u001B[0m \u001B[38;5;124;03m    \"\"\"\u001B[39;00m\n\u001B[1;32m--> 100\u001B[0m     \u001B[43mcheck_consistent_length\u001B[49m\u001B[43m(\u001B[49m\u001B[43my_true\u001B[49m\u001B[43m,\u001B[49m\u001B[43m \u001B[49m\u001B[43my_pred\u001B[49m\u001B[43m)\u001B[49m\n\u001B[0;32m    101\u001B[0m     y_true \u001B[38;5;241m=\u001B[39m check_array(y_true, ensure_2d\u001B[38;5;241m=\u001B[39m\u001B[38;5;28;01mFalse\u001B[39;00m, dtype\u001B[38;5;241m=\u001B[39mdtype)\n\u001B[0;32m    102\u001B[0m     y_pred \u001B[38;5;241m=\u001B[39m check_array(y_pred, ensure_2d\u001B[38;5;241m=\u001B[39m\u001B[38;5;28;01mFalse\u001B[39;00m, dtype\u001B[38;5;241m=\u001B[39mdtype)\n",
      "File \u001B[1;32m~\\Desktop\\Hierarchical-Risk-Parity\\venv\\Lib\\site-packages\\sklearn\\utils\\validation.py:397\u001B[0m, in \u001B[0;36mcheck_consistent_length\u001B[1;34m(*arrays)\u001B[0m\n\u001B[0;32m    395\u001B[0m uniques \u001B[38;5;241m=\u001B[39m np\u001B[38;5;241m.\u001B[39munique(lengths)\n\u001B[0;32m    396\u001B[0m \u001B[38;5;28;01mif\u001B[39;00m \u001B[38;5;28mlen\u001B[39m(uniques) \u001B[38;5;241m>\u001B[39m \u001B[38;5;241m1\u001B[39m:\n\u001B[1;32m--> 397\u001B[0m     \u001B[38;5;28;01mraise\u001B[39;00m \u001B[38;5;167;01mValueError\u001B[39;00m(\n\u001B[0;32m    398\u001B[0m         \u001B[38;5;124m\"\u001B[39m\u001B[38;5;124mFound input variables with inconsistent numbers of samples: \u001B[39m\u001B[38;5;132;01m%r\u001B[39;00m\u001B[38;5;124m\"\u001B[39m\n\u001B[0;32m    399\u001B[0m         \u001B[38;5;241m%\u001B[39m [\u001B[38;5;28mint\u001B[39m(l) \u001B[38;5;28;01mfor\u001B[39;00m l \u001B[38;5;129;01min\u001B[39;00m lengths]\n\u001B[0;32m    400\u001B[0m     )\n",
      "\u001B[1;31mValueError\u001B[0m: Found input variables with inconsistent numbers of samples: [36, 37]"
     ]
    }
   ],
   "source": [
    "#Volatility\n",
    "\n",
    "#Markowitz\n",
    "mv =mean_squared_error(mon_vol.dropna(),marko_df['Volatility'])\n",
    "\n",
    "#HRP\n",
    "hv =mean_squared_error(mon_vol.dropna(),hrp_df['Volatility'])"
   ]
  },
  {
   "cell_type": "code",
   "execution_count": 43,
   "id": "50afbdce",
   "metadata": {},
   "outputs": [
    {
     "ename": "NameError",
     "evalue": "name 'hrp_df' is not defined",
     "output_type": "error",
     "traceback": [
      "\u001B[1;31m---------------------------------------------------------------------------\u001B[0m",
      "\u001B[1;31mNameError\u001B[0m                                 Traceback (most recent call last)",
      "Cell \u001B[1;32mIn[43], line 7\u001B[0m\n\u001B[0;32m      4\u001B[0m mr \u001B[38;5;241m=\u001B[39mmean_squared_error(mon_rtrn,marko_df[\u001B[38;5;124m'\u001B[39m\u001B[38;5;124mReturns\u001B[39m\u001B[38;5;124m'\u001B[39m])\n\u001B[0;32m      6\u001B[0m \u001B[38;5;66;03m#HRP\u001B[39;00m\n\u001B[1;32m----> 7\u001B[0m hr \u001B[38;5;241m=\u001B[39mmean_squared_error(mon_rtrn,\u001B[43mhrp_df\u001B[49m[\u001B[38;5;124m'\u001B[39m\u001B[38;5;124mReturns\u001B[39m\u001B[38;5;124m'\u001B[39m])\n",
      "\u001B[1;31mNameError\u001B[0m: name 'hrp_df' is not defined"
     ]
    }
   ],
   "source": [
    "#Returns\n",
    "\n",
    "#Markowitz\n",
    "mr =mean_squared_error(mon_rtrn,marko_df['Returns'])\n",
    "\n",
    "#HRP\n",
    "hr =mean_squared_error(mon_rtrn,hrp_df['Returns'])"
   ]
  },
  {
   "cell_type": "code",
   "execution_count": 44,
   "id": "0698de19",
   "metadata": {},
   "outputs": [],
   "source": [
    "final_df = pd.DataFrame([[port_rtrn,hrp_rtrn],[port_vol,hrp_vol]], index=['Returns','Volatility'],columns=['Markowitz','Hierarchial Risk Parity'])"
   ]
  },
  {
   "cell_type": "code",
   "execution_count": 45,
   "id": "793dc840",
   "metadata": {},
   "outputs": [
    {
     "data": {
      "text/plain": "            Markowitz  Hierarchial Risk Parity\nReturns      0.257051                63.448161\nVolatility   0.671206                65.781556",
      "text/html": "<div>\n<style scoped>\n    .dataframe tbody tr th:only-of-type {\n        vertical-align: middle;\n    }\n\n    .dataframe tbody tr th {\n        vertical-align: top;\n    }\n\n    .dataframe thead th {\n        text-align: right;\n    }\n</style>\n<table border=\"1\" class=\"dataframe\">\n  <thead>\n    <tr style=\"text-align: right;\">\n      <th></th>\n      <th>Markowitz</th>\n      <th>Hierarchial Risk Parity</th>\n    </tr>\n  </thead>\n  <tbody>\n    <tr>\n      <th>Returns</th>\n      <td>0.257051</td>\n      <td>63.448161</td>\n    </tr>\n    <tr>\n      <th>Volatility</th>\n      <td>0.671206</td>\n      <td>65.781556</td>\n    </tr>\n  </tbody>\n</table>\n</div>"
     },
     "execution_count": 45,
     "metadata": {},
     "output_type": "execute_result"
    }
   ],
   "source": [
    "#Results for Entire Data\n",
    "final_df"
   ]
  },
  {
   "cell_type": "code",
   "execution_count": 46,
   "id": "4e1639d5",
   "metadata": {},
   "outputs": [
    {
     "ename": "NameError",
     "evalue": "name 'hr' is not defined",
     "output_type": "error",
     "traceback": [
      "\u001B[1;31m---------------------------------------------------------------------------\u001B[0m",
      "\u001B[1;31mNameError\u001B[0m                                 Traceback (most recent call last)",
      "Cell \u001B[1;32mIn[46], line 1\u001B[0m\n\u001B[1;32m----> 1\u001B[0m perf_df \u001B[38;5;241m=\u001B[39m pd\u001B[38;5;241m.\u001B[39mDataFrame([[mr,\u001B[43mhr\u001B[49m],[mv,hv]], index\u001B[38;5;241m=\u001B[39m[\u001B[38;5;124m'\u001B[39m\u001B[38;5;124mReturns MSE\u001B[39m\u001B[38;5;124m'\u001B[39m,\u001B[38;5;124m'\u001B[39m\u001B[38;5;124mVolatility MSE\u001B[39m\u001B[38;5;124m'\u001B[39m],columns\u001B[38;5;241m=\u001B[39m[\u001B[38;5;124m'\u001B[39m\u001B[38;5;124mMarkowitz\u001B[39m\u001B[38;5;124m'\u001B[39m,\u001B[38;5;124m'\u001B[39m\u001B[38;5;124mHierarchial Risk Parity\u001B[39m\u001B[38;5;124m'\u001B[39m])\n",
      "\u001B[1;31mNameError\u001B[0m: name 'hr' is not defined"
     ]
    }
   ],
   "source": [
    "perf_df = pd.DataFrame([[mr,hr],[mv,hv]], index=['Returns MSE','Volatility MSE'],columns=['Markowitz','Hierarchial Risk Parity'])"
   ]
  },
  {
   "cell_type": "code",
   "execution_count": 47,
   "id": "7698dcdf",
   "metadata": {},
   "outputs": [
    {
     "ename": "NameError",
     "evalue": "name 'perf_df' is not defined",
     "output_type": "error",
     "traceback": [
      "\u001B[1;31m---------------------------------------------------------------------------\u001B[0m",
      "\u001B[1;31mNameError\u001B[0m                                 Traceback (most recent call last)",
      "Cell \u001B[1;32mIn[47], line 2\u001B[0m\n\u001B[0;32m      1\u001B[0m \u001B[38;5;66;03m#Performance Measure\u001B[39;00m\n\u001B[1;32m----> 2\u001B[0m \u001B[43mperf_df\u001B[49m\n",
      "\u001B[1;31mNameError\u001B[0m: name 'perf_df' is not defined"
     ]
    }
   ],
   "source": [
    "#Performance Measure\n",
    "perf_df"
   ]
  },
  {
   "cell_type": "code",
   "execution_count": null,
   "id": "0adc8846",
   "metadata": {},
   "outputs": [],
   "source": []
  }
 ],
 "metadata": {
  "kernelspec": {
   "display_name": "Python 3",
   "language": "python",
   "name": "python3"
  },
  "language_info": {
   "codemirror_mode": {
    "name": "ipython",
    "version": 3
   },
   "file_extension": ".py",
   "mimetype": "text/x-python",
   "name": "python",
   "nbconvert_exporter": "python",
   "pygments_lexer": "ipython3",
   "version": "3.7.1"
  }
 },
 "nbformat": 4,
 "nbformat_minor": 5
}
