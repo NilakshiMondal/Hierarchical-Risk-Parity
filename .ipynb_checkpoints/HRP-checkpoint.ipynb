{
 "cells": [
  {
   "cell_type": "code",
   "execution_count": 1,
   "id": "8efe1899",
   "metadata": {},
   "outputs": [],
   "source": [
    "# ! pip install pip install PyPortfolioOpt"
   ]
  },
  {
   "cell_type": "code",
   "execution_count": 209,
   "id": "15ba4c0e",
   "metadata": {},
   "outputs": [],
   "source": [
    "import pandas as pd\n",
    "import numpy as np\n",
    "from scipy.stats import gmean\n",
    "from pypfopt.hierarchical_portfolio import HRPOpt\n",
    "from datetime import date\n",
    "from sklearn.metrics import mean_squared_error\n",
    "import matplotlib.pyplot as plt"
   ]
  },
  {
   "cell_type": "markdown",
   "id": "e51b514b",
   "metadata": {},
   "source": [
    "## Data Handling"
   ]
  },
  {
   "cell_type": "code",
   "execution_count": 210,
   "id": "cbcec984",
   "metadata": {
    "scrolled": true
   },
   "outputs": [],
   "source": [
    "data = pd.read_csv('data.csv').dropna()\n",
    "data.set_index('timeclose',inplace=True)\n",
    "data.reset_index(inplace=True)\n",
    "\n",
    "#Format Dates by removing timestamps\n",
    "\n",
    "data.rename(columns={'timeclose':'Date'},inplace=True)\n",
    "data['Date'] = pd.to_datetime(data['Date']).dt.date\n",
    "data['Date'] = data['Date'].astype('datetime64[ns]')\n",
    "\n"
   ]
  },
  {
   "cell_type": "code",
   "execution_count": 211,
   "id": "75e9c4c6",
   "metadata": {},
   "outputs": [],
   "source": [
    "#Averaging over timestamps in a day\n",
    "\n",
    "data = data.groupby('Date').mean()\n",
    "data.reset_index(inplace=True)"
   ]
  },
  {
   "cell_type": "code",
   "execution_count": 212,
   "id": "86346c0c",
   "metadata": {},
   "outputs": [],
   "source": [
    "# Add columns for years and months\n",
    "\n",
    "data['Year'] = data['Date'].dt.year\n",
    "data['Month'] = data['Date'].dt.month\n",
    "\n",
    "yr= sorted(data.Year.unique())\n",
    "mo= sorted(data.Month.unique())\n",
    "\n"
   ]
  },
  {
   "cell_type": "code",
   "execution_count": 213,
   "id": "51d8d6d2",
   "metadata": {},
   "outputs": [],
   "source": [
    "#Drop one data point causing trouble\n",
    "\n",
    "data.set_index(['Month','Year'],inplace=True)\n",
    "data.drop((1,2022),inplace=True)\n",
    "data.reset_index(inplace=True)\n"
   ]
  },
  {
   "cell_type": "code",
   "execution_count": 214,
   "id": "d10fa164",
   "metadata": {},
   "outputs": [],
   "source": [
    "#Create list of data frames for every month's data\n",
    "\n",
    "df = []\n",
    "for i in yr:\n",
    "    for j in mo:\n",
    "        d = data[(data['Month'] == j) & (data['Year']==i)]\n",
    "        if d.empty:\n",
    "            continue\n",
    "        else:\n",
    "            df.append(d)"
   ]
  },
  {
   "cell_type": "markdown",
   "id": "1dc7d998",
   "metadata": {},
   "source": [
    "## Hierarchial Risk Parity (for entire data)"
   ]
  },
  {
   "cell_type": "code",
   "execution_count": 215,
   "id": "f0de497a",
   "metadata": {},
   "outputs": [],
   "source": [
    "#HRP Model\n",
    "\n",
    "new_data = data.drop(columns=['Month','Year'])\n",
    "new_data.set_index('Date', inplace=True)\n",
    "HRP = HRPOpt(new_data,new_data.cov)"
   ]
  },
  {
   "cell_type": "code",
   "execution_count": 216,
   "id": "317f1627",
   "metadata": {},
   "outputs": [],
   "source": [
    "#Weights for Minimum Var Portfolio  using Hierarchial Risk Parity Algorithm\n",
    "w_vector = HRP.optimize(linkage_method='single')\n",
    "weights= w_vector.values()\n"
   ]
  },
  {
   "cell_type": "code",
   "execution_count": 217,
   "id": "be09e1df",
   "metadata": {},
   "outputs": [
    {
     "name": "stdout",
     "output_type": "stream",
     "text": [
      "Expected annual return: 0.1%\n",
      "Annual volatility: 0.3%\n",
      "Sharpe Ratio: -5.58\n",
      "Expected annual return: 0.1%\n",
      "Annual volatility: 0.3%\n",
      "Sharpe Ratio: -5.58\n"
     ]
    }
   ],
   "source": [
    "#Model Performance for total number of days in dataset \n",
    "\n",
    "hrp_vol = HRP.portfolio_performance(weights)[1]*100\n",
    "hrp_rtrn = HRP.portfolio_performance(weights)[0]*100\n"
   ]
  },
  {
   "cell_type": "markdown",
   "id": "5fef3d6f",
   "metadata": {},
   "source": [
    "## Monthly HRP"
   ]
  },
  {
   "cell_type": "code",
   "execution_count": 218,
   "id": "7a332d6e",
   "metadata": {},
   "outputs": [
    {
     "name": "stderr",
     "output_type": "stream",
     "text": [
      "C:\\Users\\Nilakshi Mondal\\Anaconda3\\lib\\site-packages\\pandas\\core\\frame.py:5244: SettingWithCopyWarning: \n",
      "A value is trying to be set on a copy of a slice from a DataFrame\n",
      "\n",
      "See the caveats in the documentation: https://pandas.pydata.org/pandas-docs/stable/user_guide/indexing.html#returning-a-view-versus-a-copy\n",
      "  method=method,\n"
     ]
    }
   ],
   "source": [
    "hrp_list = []\n",
    "\n",
    "for i in range(0,len(df)):\n",
    "\n",
    "    dataset= df[i]\n",
    "    month= dataset.Month.unique()[0]\n",
    "    year= dataset.Year.unique()[0]\n",
    "    dataset.replace([np.inf, -np.inf], np.nan, inplace=True)\n",
    "    dataset= df[i].drop(columns=['Month','Year']).dropna()\n",
    "    dataset.set_index('Date', inplace=True)\n",
    "\n",
    "    HRP = HRPOpt(dataset,np.cov)\n",
    "    w_vector = HRP.optimize()\n",
    "    weights= w_vector.values()\n",
    "    performance = HRP.portfolio_performance(risk_free_rate= 0.036)\n",
    "    rtrn = performance[0]*100\n",
    "    vol = performance[1]*100\n",
    "    hrp_list.append([month,year,rtrn,vol])\n"
   ]
  },
  {
   "cell_type": "code",
   "execution_count": 219,
   "id": "76eb91b5",
   "metadata": {},
   "outputs": [
    {
     "data": {
      "text/plain": [
       "<matplotlib.axes._subplots.AxesSubplot at 0x251918c7cc0>"
      ]
     },
     "execution_count": 219,
     "metadata": {},
     "output_type": "execute_result"
    },
    {
     "data": {
      "image/png": "[encoded data removed]",
      "text/plain": [
       "<Figure size 432x288 with 1 Axes>"
      ]
     },
     "metadata": {
      "needs_background": "light"
     },
     "output_type": "display_data"
    }
   ],
   "source": [
    "#Plotting\n",
    "\n",
    "hrp_df = pd.DataFrame(hrp_list, columns=[\"Month\",\"Year\",\"Returns\", \"Volatility\"])\n",
    "hrp_df.set_index(['Month','Year'],inplace=True)\n",
    "hrp_df['Volatility'].plot(x='Volatility')"
   ]
  },
  {
   "cell_type": "markdown",
   "id": "f8f74a2d",
   "metadata": {},
   "source": [
    "##  Markowitz (for entire data)"
   ]
  },
  {
   "cell_type": "code",
   "execution_count": 220,
   "id": "c006069b",
   "metadata": {},
   "outputs": [],
   "source": [
    "# Returns and Cov Matrix\n",
    "\n",
    "returns = new_data.mean()\n",
    "\n",
    "cov_matrix = new_data.cov()\n",
    "\n",
    "# data.apply(gmean)\n",
    "#geomtric means cannot be applied or negative numbers/zeros. In that case need log returns instead of pct_change for prices"
   ]
  },
  {
   "cell_type": "code",
   "execution_count": 221,
   "id": "95cb33b0",
   "metadata": {},
   "outputs": [],
   "source": [
    "# Weights\n",
    "weights = np.random.random(15)\n",
    "weights /= weights.sum()\n",
    "\n",
    "#Define number of portfolios (Assuming 100)\n",
    "\n",
    "n_port =100\n"
   ]
  },
  {
   "cell_type": "code",
   "execution_count": 222,
   "id": "b7e7a8c3",
   "metadata": {},
   "outputs": [],
   "source": [
    "#Expected Portfolio Returns\n",
    "\n",
    "port_rtrn = returns.dot(weights)\n"
   ]
  },
  {
   "cell_type": "code",
   "execution_count": 223,
   "id": "4b8a6f2a",
   "metadata": {},
   "outputs": [],
   "source": [
    "# Markovitz Model\n",
    "\n",
    "#@ operator - shorthand for np.matmul (matrix multiplication)\n",
    "port_var = np.transpose(weights)@cov_matrix@weights\n",
    "port_vol = np.sqrt(port_var)\n"
   ]
  },
  {
   "cell_type": "markdown",
   "id": "97006c15",
   "metadata": {},
   "source": [
    "## Monthly Markovitz"
   ]
  },
  {
   "cell_type": "code",
   "execution_count": 224,
   "id": "11a9f477",
   "metadata": {},
   "outputs": [],
   "source": [
    "marko_list = []\n",
    "vol = 1\n",
    "\n",
    "for i in range(0,len(df)):\n",
    "       \n",
    "    dataset= df[i]\n",
    "    month= dataset.Month.unique()[0]\n",
    "    year= dataset.Year.unique()[0]\n",
    "    dataset.replace([np.inf, -np.inf], np.nan, inplace=True)\n",
    "    dataset= df[i].drop(columns=['Month','Year']).dropna()\n",
    "    dataset.set_index('Date', inplace=True)\n",
    "\n",
    "    vol = 1\n",
    "    for j in range(0,n_port):\n",
    "\n",
    "        weights = np.random.random(15)\n",
    "        weights /= weights.sum()\n",
    "        port_rtrn = returns.dot(weights)*100\n",
    "        port_var = np.transpose(weights)@cov_matrix@weights\n",
    "        port_vol = np.sqrt(port_var)*100\n",
    "        if port_vol< vol:\n",
    "            vol = port_vol\n",
    "        else:\n",
    "            continue\n",
    "    marko_list.append([month,year,port_rtrn,vol])\n"
   ]
  },
  {
   "cell_type": "code",
   "execution_count": 225,
   "id": "227a14da",
   "metadata": {},
   "outputs": [
    {
     "data": {
      "text/plain": [
       "<matplotlib.axes._subplots.AxesSubplot at 0x2519f671908>"
      ]
     },
     "execution_count": 225,
     "metadata": {},
     "output_type": "execute_result"
    },
    {
     "data": {
      "image/png": "[encoded data removed]",
      "text/plain": [
       "<Figure size 432x288 with 1 Axes>"
      ]
     },
     "metadata": {
      "needs_background": "light"
     },
     "output_type": "display_data"
    }
   ],
   "source": [
    "#Plotting\n",
    "\n",
    "marko_df = pd.DataFrame(marko_list, columns=[\"Month\",\"Year\",\"Returns\", \"Volatility\"])\n",
    "marko_df.set_index(['Month','Year'],inplace=True)\n",
    "marko_df['Volatility'].plot(x='Volatility')"
   ]
  },
  {
   "cell_type": "markdown",
   "id": "8b7744b0",
   "metadata": {},
   "source": [
    "## Actual Vol (Entire Data)"
   ]
  },
  {
   "cell_type": "code",
   "execution_count": 226,
   "id": "0478fb5b",
   "metadata": {},
   "outputs": [],
   "source": [
    "act_vol =new_data.std().std(axis=0)\n"
   ]
  },
  {
   "cell_type": "markdown",
   "id": "e99c0db7",
   "metadata": {},
   "source": [
    "## Actual Vol Monthly"
   ]
  },
  {
   "cell_type": "code",
   "execution_count": 227,
   "id": "617590ef",
   "metadata": {},
   "outputs": [],
   "source": [
    "mon_vol= data.groupby(['Year','Month']).std().std(axis=1)\n"
   ]
  },
  {
   "cell_type": "markdown",
   "id": "430351d7",
   "metadata": {},
   "source": [
    "## Plot ALL"
   ]
  },
  {
   "cell_type": "code",
   "execution_count": 228,
   "id": "a3dca559",
   "metadata": {},
   "outputs": [
    {
     "data": {
      "text/plain": [
       "<matplotlib.legend.Legend at 0x2519f683f28>"
      ]
     },
     "execution_count": 228,
     "metadata": {},
     "output_type": "execute_result"
    },
    {
     "data": {
      "image/png": "[encoded data removed]",
      "text/plain": [
       "<Figure size 432x288 with 1 Axes>"
      ]
     },
     "metadata": {
      "needs_background": "light"
     },
     "output_type": "display_data"
    }
   ],
   "source": [
    "#Monthly Volatility\n",
    "\n",
    "fig,ax= plt.subplots()\n",
    "mon_vol.dropna().plot(label='Actual')\n",
    "marko_df['Volatility'].plot(x='Volatility',label='Markowitz')\n",
    "hrp_df['Volatility'].plot(x='Volatility',label='HRP')\n",
    "ax.legend()"
   ]
  },
  {
   "cell_type": "code",
   "execution_count": 229,
   "id": "ba8258c3",
   "metadata": {},
   "outputs": [
    {
     "data": {
      "text/plain": [
       "<matplotlib.legend.Legend at 0x25192163128>"
      ]
     },
     "execution_count": 229,
     "metadata": {},
     "output_type": "execute_result"
    },
    {
     "data": {
      "image/png": "[encoded data removed]",
      "text/plain": [
       "<Figure size 432x288 with 1 Axes>"
      ]
     },
     "metadata": {
      "needs_background": "light"
     },
     "output_type": "display_data"
    }
   ],
   "source": [
    "#Monthly Returns\n",
    "\n",
    "mon_rtrn = data.groupby(['Year','Month']).mean().mean(axis=1)\n",
    "\n",
    "fig,ax= plt.subplots()\n",
    "mon_rtrn.dropna().plot(label='Actual')\n",
    "marko_df['Returns'].plot(x='Returns',label='Markowitz')\n",
    "hrp_df['Returns'].plot(x='Returns',label='HRP')\n",
    "ax.legend()"
   ]
  },
  {
   "cell_type": "markdown",
   "id": "1894a25a",
   "metadata": {},
   "source": [
    "## Performance Measure\n"
   ]
  },
  {
   "cell_type": "code",
   "execution_count": 230,
   "id": "0959bf16",
   "metadata": {},
   "outputs": [],
   "source": [
    "#Volatility\n",
    "\n",
    "#Markowitz\n",
    "mv =mean_squared_error(mon_vol.dropna(),marko_df['Volatility'])\n",
    "\n",
    "#HRP\n",
    "hv =mean_squared_error(mon_vol.dropna(),hrp_df['Volatility'])"
   ]
  },
  {
   "cell_type": "code",
   "execution_count": 231,
   "id": "20bc8a85",
   "metadata": {},
   "outputs": [],
   "source": [
    "#Returns\n",
    "\n",
    "#Markowitz\n",
    "mr =mean_squared_error(mon_rtrn,marko_df['Returns'])\n",
    "\n",
    "#HRP\n",
    "hr =mean_squared_error(mon_rtrn,hrp_df['Returns'])"
   ]
  },
  {
   "cell_type": "code",
   "execution_count": 232,
   "id": "b2f89abd",
   "metadata": {},
   "outputs": [],
   "source": [
    "final_df = pd.DataFrame([[port_rtrn,hrp_rtrn],[port_vol,hrp_vol]], index=['Returns','Volatility'],columns=['Markowitz','Hierarchial Risk Parity'])"
   ]
  },
  {
   "cell_type": "code",
   "execution_count": 233,
   "id": "2973451e",
   "metadata": {},
   "outputs": [
    {
     "data": {
      "text/html": [
       "<div>\n",
       "<style scoped>\n",
       "    .dataframe tbody tr th:only-of-type {\n",
       "        vertical-align: middle;\n",
       "    }\n",
       "\n",
       "    .dataframe tbody tr th {\n",
       "        vertical-align: top;\n",
       "    }\n",
       "\n",
       "    .dataframe thead th {\n",
       "        text-align: right;\n",
       "    }\n",
       "</style>\n",
       "<table border=\"1\" class=\"dataframe\">\n",
       "  <thead>\n",
       "    <tr style=\"text-align: right;\">\n",
       "      <th></th>\n",
       "      <th>Markowitz</th>\n",
       "      <th>Hierarchial Risk Parity</th>\n",
       "    </tr>\n",
       "  </thead>\n",
       "  <tbody>\n",
       "    <tr>\n",
       "      <th>Returns</th>\n",
       "      <td>0.652166</td>\n",
       "      <td>0.126062</td>\n",
       "    </tr>\n",
       "    <tr>\n",
       "      <th>Volatility</th>\n",
       "      <td>17.335514</td>\n",
       "      <td>0.335700</td>\n",
       "    </tr>\n",
       "  </tbody>\n",
       "</table>\n",
       "</div>"
      ],
      "text/plain": [
       "            Markowitz  Hierarchial Risk Parity\n",
       "Returns      0.652166                 0.126062\n",
       "Volatility  17.335514                 0.335700"
      ]
     },
     "execution_count": 233,
     "metadata": {},
     "output_type": "execute_result"
    }
   ],
   "source": [
    "final_df"
   ]
  },
  {
   "cell_type": "code",
   "execution_count": 234,
   "id": "a3e0773f",
   "metadata": {},
   "outputs": [],
   "source": [
    "perf_df = pd.DataFrame([[mr,hr],[mv,hv]], index=['Returns MSE','Volatility MSE'],columns=['Markowitz','Hierarchial Risk Parity'])"
   ]
  },
  {
   "cell_type": "code",
   "execution_count": 235,
   "id": "0b51e641",
   "metadata": {},
   "outputs": [
    {
     "data": {
      "text/html": [
       "<div>\n",
       "<style scoped>\n",
       "    .dataframe tbody tr th:only-of-type {\n",
       "        vertical-align: middle;\n",
       "    }\n",
       "\n",
       "    .dataframe tbody tr th {\n",
       "        vertical-align: top;\n",
       "    }\n",
       "\n",
       "    .dataframe thead th {\n",
       "        text-align: right;\n",
       "    }\n",
       "</style>\n",
       "<table border=\"1\" class=\"dataframe\">\n",
       "  <thead>\n",
       "    <tr style=\"text-align: right;\">\n",
       "      <th></th>\n",
       "      <th>Markowitz</th>\n",
       "      <th>Hierarchial Risk Parity</th>\n",
       "    </tr>\n",
       "  </thead>\n",
       "  <tbody>\n",
       "    <tr>\n",
       "      <th>Returns MSE</th>\n",
       "      <td>0.276361</td>\n",
       "      <td>0.112572</td>\n",
       "    </tr>\n",
       "    <tr>\n",
       "      <th>Volatility MSE</th>\n",
       "      <td>3.272033</td>\n",
       "      <td>2.897977</td>\n",
       "    </tr>\n",
       "  </tbody>\n",
       "</table>\n",
       "</div>"
      ],
      "text/plain": [
       "                Markowitz  Hierarchial Risk Parity\n",
       "Returns MSE      0.276361                 0.112572\n",
       "Volatility MSE   3.272033                 2.897977"
      ]
     },
     "execution_count": 235,
     "metadata": {},
     "output_type": "execute_result"
    }
   ],
   "source": [
    "perf_df"
   ]
  },
  {
   "cell_type": "code",
   "execution_count": null,
   "id": "d28cf6c7",
   "metadata": {},
   "outputs": [],
   "source": []
  }
 ],
 "metadata": {
  "kernelspec": {
   "display_name": "Python 3",
   "language": "python",
   "name": "python3"
  },
  "language_info": {
   "codemirror_mode": {
    "name": "ipython",
    "version": 3
   },
   "file_extension": ".py",
   "mimetype": "text/x-python",
   "name": "python",
   "nbconvert_exporter": "python",
   "pygments_lexer": "ipython3",
   "version": "3.7.1"
  }
 },
 "nbformat": 4,
 "nbformat_minor": 5
}
